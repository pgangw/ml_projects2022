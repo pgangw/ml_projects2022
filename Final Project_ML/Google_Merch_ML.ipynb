{
  "nbformat": 4,
  "nbformat_minor": 0,
  "metadata": {
    "colab": {
      "provenance": []
    },
    "kernelspec": {
      "name": "python3",
      "display_name": "Python 3"
    },
    "language_info": {
      "name": "python"
    }
  },
  "cells": [
    {
      "cell_type": "markdown",
      "source": [
        "# **Exploring Google Merchandise Store's GA data using Machine Learning**"
      ],
      "metadata": {
        "id": "pGnGZv-EB_9q"
      }
    },
    {
      "cell_type": "code",
      "execution_count": 323,
      "metadata": {
        "id": "8aGScpS9BnZz"
      },
      "outputs": [],
      "source": [
        "import pandas as pd\n",
        "import h5py\n",
        "import seaborn as sns\n",
        "import matplotlib.pyplot as plt\n",
        "from sklearn.preprocessing import OrdinalEncoder\n",
        "import warnings\n",
        "import numpy as np\n",
        "warnings.filterwarnings('ignore')\n",
        "from sklearn.preprocessing import LabelEncoder\n",
        "from sklearn.model_selection import train_test_split\n",
        "from sklearn.pipeline import Pipeline\n",
        "from sklearn.compose import ColumnTransformer\n",
        "from sklearn.model_selection import GridSearchCV\n",
        "from sklearn.preprocessing import StandardScaler, OneHotEncoder\n",
        "from sklearn.impute import SimpleImputer\n",
        "import tensorflow as tf\n",
        "from tensorflow import feature_column\n",
        "from tensorflow import keras\n",
        "from sklearn.metrics import accuracy_score\n",
        "from tensorflow.keras.layers.experimental import preprocessing\n",
        "from tensorflow.keras.layers import Dense, Dropout\n",
        "from tensorflow.python import nn\n",
        "from sklearn.metrics import classification_report, PrecisionRecallDisplay\n",
        "from sklearn.metrics import roc_auc_score as roc\n",
        "import matplotlib.pyplot as plt\n",
        "import scipy.sparse as sp\n",
        "from sklearn.linear_model import LogisticRegression\n",
        "from sklearn.ensemble import RandomForestClassifier"
      ]
    },
    {
      "cell_type": "code",
      "source": [
        "from google.colab import drive\n",
        "drive.mount('/content/drive')"
      ],
      "metadata": {
        "colab": {
          "base_uri": "https://localhost:8080/"
        },
        "id": "2iac_awwscFl",
        "outputId": "7c14817e-82aa-4914-c758-56425364808b"
      },
      "execution_count": 324,
      "outputs": [
        {
          "output_type": "stream",
          "name": "stdout",
          "text": [
            "Drive already mounted at /content/drive; to attempt to forcibly remount, call drive.mount(\"/content/drive\", force_remount=True).\n"
          ]
        }
      ]
    },
    {
      "cell_type": "markdown",
      "source": [
        "## **Step 1: Understanding the dataset**"
      ],
      "metadata": {
        "id": "BfPeOjM3BvmM"
      }
    },
    {
      "cell_type": "code",
      "source": [
        "from google.colab import drive\n",
        "drive.mount('/content/drive')\n",
        "!pip install h5py"
      ],
      "metadata": {
        "colab": {
          "base_uri": "https://localhost:8080/"
        },
        "id": "gg1xppQ2Bu6x",
        "outputId": "481ac024-2d03-4a99-9515-accdcf8d6723"
      },
      "execution_count": 325,
      "outputs": [
        {
          "output_type": "stream",
          "name": "stdout",
          "text": [
            "Drive already mounted at /content/drive; to attempt to forcibly remount, call drive.mount(\"/content/drive\", force_remount=True).\n",
            "Looking in indexes: https://pypi.org/simple, https://us-python.pkg.dev/colab-wheels/public/simple/\n",
            "Requirement already satisfied: h5py in /usr/local/lib/python3.8/dist-packages (3.1.0)\n",
            "Requirement already satisfied: numpy>=1.17.5 in /usr/local/lib/python3.8/dist-packages (from h5py) (1.21.6)\n"
          ]
        }
      ]
    },
    {
      "cell_type": "code",
      "source": [
        "filename = 'test.h5'\n",
        "\n",
        "df = pd.read_csv('/content/drive/MyDrive/bq-results-20221207-205540-1670446583780/bq-results-20221207-205540-1670446583780 (1).csv')"
      ],
      "metadata": {
        "id": "LIUlox62Bu9E"
      },
      "execution_count": 326,
      "outputs": []
    },
    {
      "cell_type": "code",
      "source": [
        "print(df.shape)"
      ],
      "metadata": {
        "colab": {
          "base_uri": "https://localhost:8080/"
        },
        "id": "tiV2KqHtBu_W",
        "outputId": "e1bd326a-6e4c-4a7c-c710-8b95458098c9"
      },
      "execution_count": 327,
      "outputs": [
        {
          "output_type": "stream",
          "name": "stdout",
          "text": [
            "(2382169, 43)\n"
          ]
        }
      ]
    },
    {
      "cell_type": "code",
      "source": [
        "print(df.head())"
      ],
      "metadata": {
        "colab": {
          "base_uri": "https://localhost:8080/"
        },
        "id": "a6av0f3GBvDz",
        "outputId": "12fd4016-e899-4cda-ee66-8ed723aaa97b"
      },
      "execution_count": 328,
      "outputs": [
        {
          "output_type": "stream",
          "name": "stdout",
          "text": [
            "   visitNumber     visitId      date  visits  hits  pageviews  timeOnSite  \\\n",
            "0            1  1482596373  20161224       1     1        1.0         NaN   \n",
            "1            1  1482652635  20161224       1     1        1.0         NaN   \n",
            "2            1  1482590865  20161224       1     1        1.0         NaN   \n",
            "3            1  1482595476  20161224       1     1        1.0         NaN   \n",
            "4            1  1482604450  20161224       1     1        1.0         NaN   \n",
            "\n",
            "   bounces  transactions  transactionRevenue  ...  transactionId  \\\n",
            "0      1.0           NaN                 NaN  ...            NaN   \n",
            "1      1.0           NaN                 NaN  ...            NaN   \n",
            "2      1.0           NaN                 NaN  ...            NaN   \n",
            "3      1.0           NaN                 NaN  ...            NaN   \n",
            "4      1.0           NaN                 NaN  ...            NaN   \n",
            "\n",
            "   transactionRevenue_1  currencyCode  transactionCoupon  productName  \\\n",
            "0                   NaN           NaN                NaN          NaN   \n",
            "1                   NaN           NaN                NaN          NaN   \n",
            "2                   NaN           NaN                NaN          NaN   \n",
            "3                   NaN           NaN                NaN          NaN   \n",
            "4                   NaN           NaN                NaN          NaN   \n",
            "\n",
            "  productCategory  type        fullVisitorId userId  clientId  \n",
            "0             NaN  PAGE  3521645791879927726    NaN       NaN  \n",
            "1             NaN  PAGE  7911493941985822038    NaN       NaN  \n",
            "2             NaN  PAGE   576960471599760999    NaN       NaN  \n",
            "3             NaN  PAGE   561134625046498789    NaN       NaN  \n",
            "4             NaN  PAGE  8752497530627070676    NaN       NaN  \n",
            "\n",
            "[5 rows x 43 columns]\n"
          ]
        }
      ]
    },
    {
      "cell_type": "markdown",
      "source": [
        "## **Step 2: Data exploration using visuals**\n",
        "\n"
      ],
      "metadata": {
        "id": "Xng_JMYqCUTd"
      }
    },
    {
      "cell_type": "code",
      "source": [
        "#Visualizing the correlation matrix\n",
        "f = plt.figure(figsize=(19, 15))\n",
        "plt.matshow(df.corr(), fignum=f.number)\n",
        "plt.xticks(range(df.select_dtypes(['number']).shape[1]), \n",
        "           df.select_dtypes(['number']).columns,\n",
        "           fontsize=14, \n",
        "           rotation=45)\n",
        "plt.yticks(range(df.select_dtypes(['number']).shape[1]), \n",
        "           df.select_dtypes(['number']).columns,\n",
        "           fontsize=14)\n",
        "cb = plt.colorbar()\n",
        "cb.ax.tick_params(labelsize=14)\n",
        "plt.title('Correlation Matrix', fontsize=16);"
      ],
      "metadata": {
        "colab": {
          "base_uri": "https://localhost:8080/",
          "height": 1000
        },
        "id": "ph4rUeDL6oPa",
        "outputId": "d054a206-870e-4dca-c395-edc2f0550430"
      },
      "execution_count": 329,
      "outputs": [
        {
          "output_type": "display_data",
          "data": {
            "text/plain": [
              "<Figure size 1368x1080 with 2 Axes>"
            ],
            "image/png": "[encoded data removed]"
          },
          "metadata": {
            "needs_background": "light"
          }
        }
      ]
    },
    {
      "cell_type": "markdown",
      "source": [
        "No correlation found between most variables "
      ],
      "metadata": {
        "id": "wYmdeHDT-zfM"
      }
    },
    {
      "cell_type": "code",
      "source": [
        "sns.countplot(x='medium', data=df)"
      ],
      "metadata": {
        "colab": {
          "base_uri": "https://localhost:8080/",
          "height": 307
        },
        "id": "NNMW2zqR6oY_",
        "outputId": "2370a734-bea7-48c1-98e1-07a136dcd5b6"
      },
      "execution_count": 330,
      "outputs": [
        {
          "output_type": "execute_result",
          "data": {
            "text/plain": [
              "<matplotlib.axes._subplots.AxesSubplot at 0x7f14b0feac40>"
            ]
          },
          "metadata": {},
          "execution_count": 330
        },
        {
          "output_type": "display_data",
          "data": {
            "text/plain": [
              "<Figure size 432x288 with 1 Axes>"
            ],
            "image/png": "[encoded data removed]"
          },
          "metadata": {
            "needs_background": "light"
          }
        }
      ]
    },
    {
      "cell_type": "code",
      "source": [
        "sns.countplot(x='deviceCategory', data=df)"
      ],
      "metadata": {
        "colab": {
          "base_uri": "https://localhost:8080/",
          "height": 307
        },
        "id": "W1EP4chO8HGg",
        "outputId": "60242721-f8c6-4c90-ef92-440371abb24e"
      },
      "execution_count": 332,
      "outputs": [
        {
          "output_type": "execute_result",
          "data": {
            "text/plain": [
              "<matplotlib.axes._subplots.AxesSubplot at 0x7f155a45daf0>"
            ]
          },
          "metadata": {},
          "execution_count": 332
        },
        {
          "output_type": "display_data",
          "data": {
            "text/plain": [
              "<Figure size 432x288 with 1 Axes>"
            ],
            "image/png": "[encoded data removed]"
          },
          "metadata": {
            "needs_background": "light"
          }
        }
      ]
    },
    {
      "cell_type": "code",
      "source": [
        "df.dtypes"
      ],
      "metadata": {
        "colab": {
          "base_uri": "https://localhost:8080/"
        },
        "id": "tGQn0gzz9kuX",
        "outputId": "b4357bbc-c736-4bbe-f45e-14dd2b9e072b"
      },
      "execution_count": 334,
      "outputs": [
        {
          "output_type": "execute_result",
          "data": {
            "text/plain": [
              "visitNumber                  int64\n",
              "visitId                      int64\n",
              "date                         int64\n",
              "visits                       int64\n",
              "hits                         int64\n",
              "pageviews                  float64\n",
              "timeOnSite                 float64\n",
              "bounces                    float64\n",
              "transactions               float64\n",
              "transactionRevenue         float64\n",
              "newVisits                  float64\n",
              "screenviews                float64\n",
              "uniqueScreenviews          float64\n",
              "timeOnScreen               float64\n",
              "totalTransactionRevenue    float64\n",
              "source                      object\n",
              "medium                      object\n",
              "browser                     object\n",
              "operatingSystem             object\n",
              "isMobile                      bool\n",
              "deviceCategory              object\n",
              "continent                   object\n",
              "country                     object\n",
              "city                        object\n",
              "hitNumber                    int64\n",
              "time                         int64\n",
              "hour                         int64\n",
              "minute                       int64\n",
              "searchKeyword               object\n",
              "searchCategory              object\n",
              "pagePath                    object\n",
              "hostname                    object\n",
              "pageTitle                   object\n",
              "transactionId               object\n",
              "transactionRevenue_1       float64\n",
              "currencyCode                object\n",
              "transactionCoupon           object\n",
              "productName                float64\n",
              "productCategory            float64\n",
              "type                        object\n",
              "fullVisitorId               object\n",
              "userId                     float64\n",
              "clientId                   float64\n",
              "dtype: object"
            ]
          },
          "metadata": {},
          "execution_count": 334
        }
      ]
    },
    {
      "cell_type": "code",
      "source": [
        "#Checking for linear relationships\n",
        "\n",
        "import seaborn as sns\n",
        "\n",
        "LinX = df[['visits', 'hits', 'pageviews', 'timeOnSite', 'bounces', 'newVisits', 'hitNumber', 'hour']]\n",
        "\n",
        "# exploring the dataset\n",
        "# df_LinRel = pd.DataFrame(data=LinX, columns=['A1', 'A2', 'A3', 'A4', 'A5', 'A6', 'A7', 'A8', 'A9', 'A10', 'A11', 'A12', 'A13', 'A14', 'A15', 'A16'])\n",
        "\n",
        "g = sns.pairplot(LinX, height=3)\n",
        "for i, j in zip(*np.triu_indices_from(g.axes, 1)):\n",
        "    g.axes[i, j].set_visible(False)"
      ],
      "metadata": {
        "colab": {
          "base_uri": "https://localhost:8080/",
          "height": 1000
        },
        "id": "IxdJZclT9UtS",
        "outputId": "d5d0446f-a64d-4f2f-baa0-c191ca8522eb"
      },
      "execution_count": 335,
      "outputs": [
        {
          "output_type": "display_data",
          "data": {
            "text/plain": [
              "<Figure size 1728x1728 with 72 Axes>"
            ],
            "image/png": "[encoded data removed]"
          },
          "metadata": {
            "needs_background": "light"
          }
        }
      ]
    },
    {
      "cell_type": "markdown",
      "source": [
        "Expected correlation between hits and pageviews found"
      ],
      "metadata": {
        "id": "7GD-gqPP_NmU"
      }
    },
    {
      "cell_type": "markdown",
      "source": [
        "## **Step 3: Data filtering and preparation**"
      ],
      "metadata": {
        "id": "Vu7nmqKzCce1"
      }
    },
    {
      "cell_type": "markdown",
      "source": [
        "- The goal of the project is to investigate user behavior on the Google Merchandise website using a selected set of variables. \n",
        "- The variables are selected on the basis of their hyptihesized impact / relation with the UX of a website \n",
        "- Keeping this in mind, they key variables are - hits, pageviews, time on site, new visits, hit number, device category, bounces, medium, transaction revenue, hour of the day and amount of time spent on the \"shopping cart\" page.\n",
        "- The last variable - amount of time spent on the shopping cart page is not provided by Google, we will hence calculate the same using the time of the day details provided for every activity by a visitor."
      ],
      "metadata": {
        "id": "iWOfYmuR_bPn"
      }
    },
    {
      "cell_type": "markdown",
      "source": [
        "### Calculating a new column - time spent on each page to get the total time spent on the shopping cart page"
      ],
      "metadata": {
        "id": "gMOB0PPc6r0m"
      }
    },
    {
      "cell_type": "code",
      "source": [
        "#Sorting the dataset by user and time\n",
        "df2 = df.sort_values(by=['visitId', 'time'],\n",
        "               ascending=[True, True])\n",
        "\n",
        "print(df2.head())"
      ],
      "metadata": {
        "colab": {
          "base_uri": "https://localhost:8080/"
        },
        "id": "5Ttk4b0ySNH6",
        "outputId": "1aae101b-f7d4-451d-cd07-2976fa9ec568"
      },
      "execution_count": 338,
      "outputs": [
        {
          "output_type": "stream",
          "name": "stdout",
          "text": [
            "        visitNumber     visitId      date  visits  hits  pageviews  \\\n",
            "382946            3  1470034812  20160801       1     1        1.0   \n",
            "288354            1  1470035066  20160801       1     1        1.0   \n",
            "573533            1  1470035081  20160801       1     5        5.0   \n",
            "383621            1  1470035081  20160801       1     5        5.0   \n",
            "288949            1  1470035081  20160801       1     5        5.0   \n",
            "\n",
            "        timeOnSite  bounces  transactions  transactionRevenue  ...  \\\n",
            "382946         NaN      1.0           NaN                 NaN  ...   \n",
            "288354         NaN      1.0           NaN                 NaN  ...   \n",
            "573533        40.0      NaN           NaN                 NaN  ...   \n",
            "383621        40.0      NaN           NaN                 NaN  ...   \n",
            "288949        40.0      NaN           NaN                 NaN  ...   \n",
            "\n",
            "        transactionId  transactionRevenue_1  currencyCode  transactionCoupon  \\\n",
            "382946            NaN                   NaN           USD                NaN   \n",
            "288354            NaN                   NaN           NaN                NaN   \n",
            "573533            NaN                   NaN           NaN                NaN   \n",
            "383621            NaN                   NaN           USD                NaN   \n",
            "288949            NaN                   NaN           NaN                NaN   \n",
            "\n",
            "        productName productCategory  type        fullVisitorId userId  \\\n",
            "382946          NaN             NaN  PAGE   423043652415339154    NaN   \n",
            "288354          NaN             NaN  PAGE  8294721032567046680    NaN   \n",
            "573533          NaN             NaN  PAGE  7718623669497357235    NaN   \n",
            "383621          NaN             NaN  PAGE  7718623669497357235    NaN   \n",
            "288949          NaN             NaN  PAGE  7718623669497357235    NaN   \n",
            "\n",
            "        clientId  \n",
            "382946       NaN  \n",
            "288354       NaN  \n",
            "573533       NaN  \n",
            "383621       NaN  \n",
            "288949       NaN  \n",
            "\n",
            "[5 rows x 43 columns]\n"
          ]
        }
      ]
    },
    {
      "cell_type": "code",
      "source": [
        "#Adding a new column to calculate the amount of time spent on each page\n",
        "df2['TimeSpeantEachPage'] = df2['time'].diff(periods=-1).abs()\n",
        "print(df2.head())"
      ],
      "metadata": {
        "colab": {
          "base_uri": "https://localhost:8080/"
        },
        "id": "uEATMWaZUKV9",
        "outputId": "d05c1e15-5746-4d78-c7a1-41d44a1d22f2"
      },
      "execution_count": 339,
      "outputs": [
        {
          "output_type": "stream",
          "name": "stdout",
          "text": [
            "        visitNumber     visitId      date  visits  hits  pageviews  \\\n",
            "382946            3  1470034812  20160801       1     1        1.0   \n",
            "288354            1  1470035066  20160801       1     1        1.0   \n",
            "573533            1  1470035081  20160801       1     5        5.0   \n",
            "383621            1  1470035081  20160801       1     5        5.0   \n",
            "288949            1  1470035081  20160801       1     5        5.0   \n",
            "\n",
            "        timeOnSite  bounces  transactions  transactionRevenue  ...  \\\n",
            "382946         NaN      1.0           NaN                 NaN  ...   \n",
            "288354         NaN      1.0           NaN                 NaN  ...   \n",
            "573533        40.0      NaN           NaN                 NaN  ...   \n",
            "383621        40.0      NaN           NaN                 NaN  ...   \n",
            "288949        40.0      NaN           NaN                 NaN  ...   \n",
            "\n",
            "        transactionRevenue_1  currencyCode  transactionCoupon  productName  \\\n",
            "382946                   NaN           USD                NaN          NaN   \n",
            "288354                   NaN           NaN                NaN          NaN   \n",
            "573533                   NaN           NaN                NaN          NaN   \n",
            "383621                   NaN           USD                NaN          NaN   \n",
            "288949                   NaN           NaN                NaN          NaN   \n",
            "\n",
            "        productCategory  type        fullVisitorId userId clientId  \\\n",
            "382946              NaN  PAGE   423043652415339154    NaN      NaN   \n",
            "288354              NaN  PAGE  8294721032567046680    NaN      NaN   \n",
            "573533              NaN  PAGE  7718623669497357235    NaN      NaN   \n",
            "383621              NaN  PAGE  7718623669497357235    NaN      NaN   \n",
            "288949              NaN  PAGE  7718623669497357235    NaN      NaN   \n",
            "\n",
            "        TimeSpeantEachPage  \n",
            "382946                 0.0  \n",
            "288354                 0.0  \n",
            "573533             11332.0  \n",
            "383621              4781.0  \n",
            "288949             19596.0  \n",
            "\n",
            "[5 rows x 44 columns]\n"
          ]
        }
      ]
    },
    {
      "cell_type": "code",
      "source": [
        "#if a user spends time on the shopping cart, the next code pulls out the shopping cart time in a separate df\n",
        "df_sc = df2[df2['pageTitle']==\"Shopping Cart\"]\n",
        "print(df_sc['pageTitle'].head())"
      ],
      "metadata": {
        "colab": {
          "base_uri": "https://localhost:8080/"
        },
        "id": "n7SOWc12gWqF",
        "outputId": "77a16fa5-0d51-4c83-e291-8339fb4ecb3e"
      },
      "execution_count": 342,
      "outputs": [
        {
          "output_type": "stream",
          "name": "stdout",
          "text": [
            "288436    Shopping Cart\n",
            "383907    Shopping Cart\n",
            "574116    Shopping Cart\n",
            "573818    Shopping Cart\n",
            "574788    Shopping Cart\n",
            "Name: pageTitle, dtype: object\n"
          ]
        }
      ]
    },
    {
      "cell_type": "code",
      "source": [
        "#Grouping this data by visitid and calculating the total shopping cart page time spent by every visitor using \"sum\"\n",
        "df_sc = df_sc.groupby(['visitId']).sum()\n",
        "print(df_sc.head())"
      ],
      "metadata": {
        "colab": {
          "base_uri": "https://localhost:8080/"
        },
        "id": "iboGc6AXgWtB",
        "outputId": "2cbde6ef-3565-48a0-dea5-baec44de82b9"
      },
      "execution_count": 343,
      "outputs": [
        {
          "output_type": "stream",
          "name": "stdout",
          "text": [
            "            visitNumber      date  visits  hits  pageviews  timeOnSite  \\\n",
            "visitId                                                                  \n",
            "1470035429            2  20160801       1     1        1.0         0.0   \n",
            "1470035892            1  20160801       1     8        6.0        82.0   \n",
            "1470038799            1  20160801       1    10        9.0       135.0   \n",
            "1470039214            5  20160801       1     8        5.0        74.0   \n",
            "1470040837            2  40321602       2    36       28.0      1132.0   \n",
            "\n",
            "            bounces  transactions  transactionRevenue  newVisits  ...  \\\n",
            "visitId                                                           ...   \n",
            "1470035429      1.0           0.0                 0.0        0.0  ...   \n",
            "1470035892      0.0           0.0                 0.0        1.0  ...   \n",
            "1470038799      0.0           0.0                 0.0        1.0  ...   \n",
            "1470039214      0.0           0.0                 0.0        0.0  ...   \n",
            "1470040837      0.0           0.0                 0.0        2.0  ...   \n",
            "\n",
            "            hitNumber    time  hour  minute  transactionRevenue_1  \\\n",
            "visitId                                                             \n",
            "1470035429          1       0     0      10                   0.0   \n",
            "1470035892          6   67254     0      19                   0.0   \n",
            "1470038799          6   82925     1       8                   0.0   \n",
            "1470039214          6   37571     1      14                   0.0   \n",
            "1470040837         26  773113     2      94                   0.0   \n",
            "\n",
            "            productName  productCategory  userId  clientId  TimeSpeantEachPage  \n",
            "visitId                                                                         \n",
            "1470035429          0.0              0.0     0.0       0.0                 0.0  \n",
            "1470035892          0.0              0.0     0.0       0.0              6874.0  \n",
            "1470038799          0.0              0.0     0.0       0.0             19058.0  \n",
            "1470039214          0.0              0.0     0.0       0.0             21945.0  \n",
            "1470040837          0.0              0.0     0.0       0.0            584036.0  \n",
            "\n",
            "[5 rows x 25 columns]\n"
          ]
        }
      ]
    },
    {
      "cell_type": "code",
      "source": [
        "print(df_sc.head(10))"
      ],
      "metadata": {
        "colab": {
          "base_uri": "https://localhost:8080/"
        },
        "id": "VahVmRT5gWwQ",
        "outputId": "dc0bc562-5648-4b44-e46a-5a4f72f8105b"
      },
      "execution_count": 344,
      "outputs": [
        {
          "output_type": "stream",
          "name": "stdout",
          "text": [
            "            visitNumber       date  visits  hits  pageviews  timeOnSite  \\\n",
            "visitId                                                                   \n",
            "1470035429            2   20160801       1     1        1.0         0.0   \n",
            "1470035892            1   20160801       1     8        6.0        82.0   \n",
            "1470038799            1   20160801       1    10        9.0       135.0   \n",
            "1470039214            5   20160801       1     8        5.0        74.0   \n",
            "1470040837            2   40321602       2    36       28.0      1132.0   \n",
            "1470041040            1   20160801       1    10       10.0      1494.0   \n",
            "1470041240           12  241929612      12   552      372.0     13452.0   \n",
            "1470041543            6   20160801       1     6        2.0        23.0   \n",
            "1470043635            3   60482403       3    69       45.0       819.0   \n",
            "1470044455            1   20160801       1     3        3.0        56.0   \n",
            "\n",
            "            bounces  transactions  transactionRevenue  newVisits  ...  \\\n",
            "visitId                                                           ...   \n",
            "1470035429      1.0           0.0                 0.0        0.0  ...   \n",
            "1470035892      0.0           0.0                 0.0        1.0  ...   \n",
            "1470038799      0.0           0.0                 0.0        1.0  ...   \n",
            "1470039214      0.0           0.0                 0.0        0.0  ...   \n",
            "1470040837      0.0           0.0                 0.0        2.0  ...   \n",
            "1470041040      0.0           0.0                 0.0        1.0  ...   \n",
            "1470041240      0.0           0.0                 0.0       12.0  ...   \n",
            "1470041543      0.0           0.0                 0.0        0.0  ...   \n",
            "1470043635      0.0           0.0                 0.0        3.0  ...   \n",
            "1470044455      0.0           0.0                 0.0        1.0  ...   \n",
            "\n",
            "            hitNumber     time  hour  minute  transactionRevenue_1  \\\n",
            "visitId                                                              \n",
            "1470035429          1        0     0      10                   0.0   \n",
            "1470035892          6    67254     0      19                   0.0   \n",
            "1470038799          6    82925     1       8                   0.0   \n",
            "1470039214          6    37571     1      14                   0.0   \n",
            "1470040837         26   773113     2      94                   0.0   \n",
            "1470041040          9  1474016     2       8                   0.0   \n",
            "1470041240        293  4600088    12     640                   0.0   \n",
            "1470041543          6    22567     1      52                   0.0   \n",
            "1470043635         40   364146     6      86                   0.0   \n",
            "1470044455          3    56137     2      41                   0.0   \n",
            "\n",
            "            productName  productCategory  userId  clientId  TimeSpeantEachPage  \n",
            "visitId                                                                         \n",
            "1470035429          0.0              0.0     0.0       0.0                 0.0  \n",
            "1470035892          0.0              0.0     0.0       0.0              6874.0  \n",
            "1470038799          0.0              0.0     0.0       0.0             19058.0  \n",
            "1470039214          0.0              0.0     0.0       0.0             21945.0  \n",
            "1470040837          0.0              0.0     0.0       0.0            584036.0  \n",
            "1470041040          0.0              0.0     0.0       0.0             19520.0  \n",
            "1470041240          0.0              0.0     0.0       0.0            664076.0  \n",
            "1470041543          0.0              0.0     0.0       0.0             22567.0  \n",
            "1470043635          0.0              0.0     0.0       0.0             44307.0  \n",
            "1470044455          0.0              0.0     0.0       0.0             56137.0  \n",
            "\n",
            "[10 rows x 25 columns]\n"
          ]
        }
      ]
    },
    {
      "cell_type": "code",
      "source": [
        "#To validate the df\n",
        "df_sc.head(100).to_csv('new_sc.csv')"
      ],
      "metadata": {
        "id": "u8SVsukdgWyr"
      },
      "execution_count": 345,
      "outputs": []
    },
    {
      "cell_type": "code",
      "source": [
        "#Keeping just the relevant column - shopping cart time, in df_sc\n",
        "\n",
        "# df_sctime = df_sc[['TimeSpeantEachPage']]\n",
        "# df_sctime.head(10)\n",
        "\n",
        "df_sctime.columns = ['ShoppingCartTime']\n",
        "df_sctime.head(10)"
      ],
      "metadata": {
        "colab": {
          "base_uri": "https://localhost:8080/",
          "height": 394
        },
        "id": "sh50UYo70dHa",
        "outputId": "26473f12-08e3-4faf-d5ca-4e4caa2b62be"
      },
      "execution_count": 349,
      "outputs": [
        {
          "output_type": "execute_result",
          "data": {
            "text/plain": [
              "            ShoppingCartTime\n",
              "visitId                     \n",
              "1470035429               0.0\n",
              "1470035892            6874.0\n",
              "1470038799           19058.0\n",
              "1470039214           21945.0\n",
              "1470040837          584036.0\n",
              "1470041040           19520.0\n",
              "1470041240          664076.0\n",
              "1470041543           22567.0\n",
              "1470043635           44307.0\n",
              "1470044455           56137.0"
            ],
            "text/html": [
              "\n",
              "  <div id=\"df-0557829f-3268-49ed-8ae7-aa02eece4828\">\n",
              "    <div class=\"colab-df-container\">\n",
              "      <div>\n",
              "<style scoped>\n",
              "    .dataframe tbody tr th:only-of-type {\n",
              "        vertical-align: middle;\n",
              "    }\n",
              "\n",
              "    .dataframe tbody tr th {\n",
              "        vertical-align: top;\n",
              "    }\n",
              "\n",
              "    .dataframe thead th {\n",
              "        text-align: right;\n",
              "    }\n",
              "</style>\n",
              "<table border=\"1\" class=\"dataframe\">\n",
              "  <thead>\n",
              "    <tr style=\"text-align: right;\">\n",
              "      <th></th>\n",
              "      <th>ShoppingCartTime</th>\n",
              "    </tr>\n",
              "    <tr>\n",
              "      <th>visitId</th>\n",
              "      <th></th>\n",
              "    </tr>\n",
              "  </thead>\n",
              "  <tbody>\n",
              "    <tr>\n",
              "      <th>1470035429</th>\n",
              "      <td>0.0</td>\n",
              "    </tr>\n",
              "    <tr>\n",
              "      <th>1470035892</th>\n",
              "      <td>6874.0</td>\n",
              "    </tr>\n",
              "    <tr>\n",
              "      <th>1470038799</th>\n",
              "      <td>19058.0</td>\n",
              "    </tr>\n",
              "    <tr>\n",
              "      <th>1470039214</th>\n",
              "      <td>21945.0</td>\n",
              "    </tr>\n",
              "    <tr>\n",
              "      <th>1470040837</th>\n",
              "      <td>584036.0</td>\n",
              "    </tr>\n",
              "    <tr>\n",
              "      <th>1470041040</th>\n",
              "      <td>19520.0</td>\n",
              "    </tr>\n",
              "    <tr>\n",
              "      <th>1470041240</th>\n",
              "      <td>664076.0</td>\n",
              "    </tr>\n",
              "    <tr>\n",
              "      <th>1470041543</th>\n",
              "      <td>22567.0</td>\n",
              "    </tr>\n",
              "    <tr>\n",
              "      <th>1470043635</th>\n",
              "      <td>44307.0</td>\n",
              "    </tr>\n",
              "    <tr>\n",
              "      <th>1470044455</th>\n",
              "      <td>56137.0</td>\n",
              "    </tr>\n",
              "  </tbody>\n",
              "</table>\n",
              "</div>\n",
              "      <button class=\"colab-df-convert\" onclick=\"convertToInteractive('df-0557829f-3268-49ed-8ae7-aa02eece4828')\"\n",
              "              title=\"Convert this dataframe to an interactive table.\"\n",
              "              style=\"display:none;\">\n",
              "        \n",
              "  <svg xmlns=\"http://www.w3.org/2000/svg\" height=\"24px\"viewBox=\"0 0 24 24\"\n",
              "       width=\"24px\">\n",
              "    <path d=\"M0 0h24v24H0V0z\" fill=\"none\"/>\n",
              "    <path d=\"M18.56 5.44l.94 2.06.94-2.06 2.06-.94-2.06-.94-.94-2.06-.94 2.06-2.06.94zm-11 1L8.5 8.5l.94-2.06 2.06-.94-2.06-.94L8.5 2.5l-.94 2.06-2.06.94zm10 10l.94 2.06.94-2.06 2.06-.94-2.06-.94-.94-2.06-.94 2.06-2.06.94z\"/><path d=\"M17.41 7.96l-1.37-1.37c-.4-.4-.92-.59-1.43-.59-.52 0-1.04.2-1.43.59L10.3 9.45l-7.72 7.72c-.78.78-.78 2.05 0 2.83L4 21.41c.39.39.9.59 1.41.59.51 0 1.02-.2 1.41-.59l7.78-7.78 2.81-2.81c.8-.78.8-2.07 0-2.86zM5.41 20L4 18.59l7.72-7.72 1.47 1.35L5.41 20z\"/>\n",
              "  </svg>\n",
              "      </button>\n",
              "      \n",
              "  <style>\n",
              "    .colab-df-container {\n",
              "      display:flex;\n",
              "      flex-wrap:wrap;\n",
              "      gap: 12px;\n",
              "    }\n",
              "\n",
              "    .colab-df-convert {\n",
              "      background-color: #E8F0FE;\n",
              "      border: none;\n",
              "      border-radius: 50%;\n",
              "      cursor: pointer;\n",
              "      display: none;\n",
              "      fill: #1967D2;\n",
              "      height: 32px;\n",
              "      padding: 0 0 0 0;\n",
              "      width: 32px;\n",
              "    }\n",
              "\n",
              "    .colab-df-convert:hover {\n",
              "      background-color: #E2EBFA;\n",
              "      box-shadow: 0px 1px 2px rgba(60, 64, 67, 0.3), 0px 1px 3px 1px rgba(60, 64, 67, 0.15);\n",
              "      fill: #174EA6;\n",
              "    }\n",
              "\n",
              "    [theme=dark] .colab-df-convert {\n",
              "      background-color: #3B4455;\n",
              "      fill: #D2E3FC;\n",
              "    }\n",
              "\n",
              "    [theme=dark] .colab-df-convert:hover {\n",
              "      background-color: #434B5C;\n",
              "      box-shadow: 0px 1px 3px 1px rgba(0, 0, 0, 0.15);\n",
              "      filter: drop-shadow(0px 1px 2px rgba(0, 0, 0, 0.3));\n",
              "      fill: #FFFFFF;\n",
              "    }\n",
              "  </style>\n",
              "\n",
              "      <script>\n",
              "        const buttonEl =\n",
              "          document.querySelector('#df-0557829f-3268-49ed-8ae7-aa02eece4828 button.colab-df-convert');\n",
              "        buttonEl.style.display =\n",
              "          google.colab.kernel.accessAllowed ? 'block' : 'none';\n",
              "\n",
              "        async function convertToInteractive(key) {\n",
              "          const element = document.querySelector('#df-0557829f-3268-49ed-8ae7-aa02eece4828');\n",
              "          const dataTable =\n",
              "            await google.colab.kernel.invokeFunction('convertToInteractive',\n",
              "                                                     [key], {});\n",
              "          if (!dataTable) return;\n",
              "\n",
              "          const docLinkHtml = 'Like what you see? Visit the ' +\n",
              "            '<a target=\"_blank\" href=https://colab.research.google.com/notebooks/data_table.ipynb>data table notebook</a>'\n",
              "            + ' to learn more about interactive tables.';\n",
              "          element.innerHTML = '';\n",
              "          dataTable['output_type'] = 'display_data';\n",
              "          await google.colab.output.renderOutput(dataTable, element);\n",
              "          const docLink = document.createElement('div');\n",
              "          docLink.innerHTML = docLinkHtml;\n",
              "          element.appendChild(docLink);\n",
              "        }\n",
              "      </script>\n",
              "    </div>\n",
              "  </div>\n",
              "  "
            ]
          },
          "metadata": {},
          "execution_count": 349
        }
      ]
    },
    {
      "cell_type": "code",
      "source": [
        "#Merging the two files to get one master file - the previously sorted df and the new calculated shopping cart df\n",
        "df3 = pd.merge(df2, df_sctime, on=\"visitId\", how=\"left\")\n",
        "df3.to_csv(\"df3final.csv\", encoding='UTF8')"
      ],
      "metadata": {
        "id": "TVE8SrvUnyIO"
      },
      "execution_count": 350,
      "outputs": []
    },
    {
      "cell_type": "code",
      "source": [
        "#To check if the dataset merged as expected and if it looks alright\n",
        "df3.head(100).to_csv('testing_final_merge.csv')"
      ],
      "metadata": {
        "id": "qs_asiS8nytx"
      },
      "execution_count": 351,
      "outputs": []
    },
    {
      "cell_type": "code",
      "source": [
        "#Testing if the merge has happened correctly using one ID\n",
        "df[df['visitId']==1470035892].to_csv('check2.csv')"
      ],
      "metadata": {
        "id": "_1CL1uOOnyy-"
      },
      "execution_count": 352,
      "outputs": []
    },
    {
      "cell_type": "markdown",
      "source": [
        "### Dropping and keeping the relevant columns"
      ],
      "metadata": {
        "id": "uuK7s23u69LG"
      }
    },
    {
      "cell_type": "markdown",
      "source": [
        "The project from hereon, is going to test the relation of the following features with purchase behavior - hits, pageviews, time on site, new visit, device, medium, hour, time on the shopping page. "
      ],
      "metadata": {
        "id": "tlFQFBem7pen"
      }
    },
    {
      "cell_type": "code",
      "source": [
        "columns = ['hits','pageviews', 'timeOnSite', 'newVisits', 'hitNumber', 'deviceCategory', 'bounces', 'medium', 'totalTransactionRevenue', 'visitId', 'hour', 'ShoppingCartTime']\n",
        "\n",
        "# columns = ['hits','pageviews', 'timeOnSite', 'newVisits', 'hitNumber', 'bounces', 'totalTransactionRevenue', 'visitId', 'hour', 'ShoppingCartTime']\n",
        "df4 = pd.read_csv('/content/df3final.csv')\n",
        "\n",
        "df4 = df4[columns]\n",
        "df4.head(10) "
      ],
      "metadata": {
        "colab": {
          "base_uri": "https://localhost:8080/",
          "height": 427
        },
        "id": "iPvwr1Xx68nY",
        "outputId": "8ae4afa6-dbc8-424f-d62a-a7948ff2716c"
      },
      "execution_count": 353,
      "outputs": [
        {
          "output_type": "execute_result",
          "data": {
            "text/plain": [
              "   hits  pageviews  timeOnSite  newVisits  hitNumber deviceCategory  bounces  \\\n",
              "0     1        1.0         NaN        NaN          1         mobile      1.0   \n",
              "1     1        1.0         NaN        1.0          1        desktop      1.0   \n",
              "2     5        5.0        40.0        1.0          1         tablet      NaN   \n",
              "3     5        5.0        40.0        1.0          2         tablet      NaN   \n",
              "4     5        5.0        40.0        1.0          3         tablet      NaN   \n",
              "5     5        5.0        40.0        1.0          4         tablet      NaN   \n",
              "6     5        5.0        40.0        1.0          5         tablet      NaN   \n",
              "7     9        7.0        89.0        1.0          1        desktop      NaN   \n",
              "8     9        7.0        89.0        1.0          2        desktop      NaN   \n",
              "9     9        7.0        89.0        1.0          3        desktop      NaN   \n",
              "\n",
              "     medium  totalTransactionRevenue     visitId  hour  ShoppingCartTime  \n",
              "0    (none)                      NaN  1470034812     0               NaN  \n",
              "1  referral                      NaN  1470035066     0               NaN  \n",
              "2   organic                      NaN  1470035081     0               NaN  \n",
              "3   organic                      NaN  1470035081     0               NaN  \n",
              "4   organic                      NaN  1470035081     0               NaN  \n",
              "5   organic                      NaN  1470035081     0               NaN  \n",
              "6   organic                      NaN  1470035081     0               NaN  \n",
              "7   organic                      NaN  1470035161     0               NaN  \n",
              "8   organic                      NaN  1470035161     0               NaN  \n",
              "9   organic                      NaN  1470035161     0               NaN  "
            ],
            "text/html": [
              "\n",
              "  <div id=\"df-96567a4a-1a5d-4ae2-8c52-b41af657ac36\">\n",
              "    <div class=\"colab-df-container\">\n",
              "      <div>\n",
              "<style scoped>\n",
              "    .dataframe tbody tr th:only-of-type {\n",
              "        vertical-align: middle;\n",
              "    }\n",
              "\n",
              "    .dataframe tbody tr th {\n",
              "        vertical-align: top;\n",
              "    }\n",
              "\n",
              "    .dataframe thead th {\n",
              "        text-align: right;\n",
              "    }\n",
              "</style>\n",
              "<table border=\"1\" class=\"dataframe\">\n",
              "  <thead>\n",
              "    <tr style=\"text-align: right;\">\n",
              "      <th></th>\n",
              "      <th>hits</th>\n",
              "      <th>pageviews</th>\n",
              "      <th>timeOnSite</th>\n",
              "      <th>newVisits</th>\n",
              "      <th>hitNumber</th>\n",
              "      <th>deviceCategory</th>\n",
              "      <th>bounces</th>\n",
              "      <th>medium</th>\n",
              "      <th>totalTransactionRevenue</th>\n",
              "      <th>visitId</th>\n",
              "      <th>hour</th>\n",
              "      <th>ShoppingCartTime</th>\n",
              "    </tr>\n",
              "  </thead>\n",
              "  <tbody>\n",
              "    <tr>\n",
              "      <th>0</th>\n",
              "      <td>1</td>\n",
              "      <td>1.0</td>\n",
              "      <td>NaN</td>\n",
              "      <td>NaN</td>\n",
              "      <td>1</td>\n",
              "      <td>mobile</td>\n",
              "      <td>1.0</td>\n",
              "      <td>(none)</td>\n",
              "      <td>NaN</td>\n",
              "      <td>1470034812</td>\n",
              "      <td>0</td>\n",
              "      <td>NaN</td>\n",
              "    </tr>\n",
              "    <tr>\n",
              "      <th>1</th>\n",
              "      <td>1</td>\n",
              "      <td>1.0</td>\n",
              "      <td>NaN</td>\n",
              "      <td>1.0</td>\n",
              "      <td>1</td>\n",
              "      <td>desktop</td>\n",
              "      <td>1.0</td>\n",
              "      <td>referral</td>\n",
              "      <td>NaN</td>\n",
              "      <td>1470035066</td>\n",
              "      <td>0</td>\n",
              "      <td>NaN</td>\n",
              "    </tr>\n",
              "    <tr>\n",
              "      <th>2</th>\n",
              "      <td>5</td>\n",
              "      <td>5.0</td>\n",
              "      <td>40.0</td>\n",
              "      <td>1.0</td>\n",
              "      <td>1</td>\n",
              "      <td>tablet</td>\n",
              "      <td>NaN</td>\n",
              "      <td>organic</td>\n",
              "      <td>NaN</td>\n",
              "      <td>1470035081</td>\n",
              "      <td>0</td>\n",
              "      <td>NaN</td>\n",
              "    </tr>\n",
              "    <tr>\n",
              "      <th>3</th>\n",
              "      <td>5</td>\n",
              "      <td>5.0</td>\n",
              "      <td>40.0</td>\n",
              "      <td>1.0</td>\n",
              "      <td>2</td>\n",
              "      <td>tablet</td>\n",
              "      <td>NaN</td>\n",
              "      <td>organic</td>\n",
              "      <td>NaN</td>\n",
              "      <td>1470035081</td>\n",
              "      <td>0</td>\n",
              "      <td>NaN</td>\n",
              "    </tr>\n",
              "    <tr>\n",
              "      <th>4</th>\n",
              "      <td>5</td>\n",
              "      <td>5.0</td>\n",
              "      <td>40.0</td>\n",
              "      <td>1.0</td>\n",
              "      <td>3</td>\n",
              "      <td>tablet</td>\n",
              "      <td>NaN</td>\n",
              "      <td>organic</td>\n",
              "      <td>NaN</td>\n",
              "      <td>1470035081</td>\n",
              "      <td>0</td>\n",
              "      <td>NaN</td>\n",
              "    </tr>\n",
              "    <tr>\n",
              "      <th>5</th>\n",
              "      <td>5</td>\n",
              "      <td>5.0</td>\n",
              "      <td>40.0</td>\n",
              "      <td>1.0</td>\n",
              "      <td>4</td>\n",
              "      <td>tablet</td>\n",
              "      <td>NaN</td>\n",
              "      <td>organic</td>\n",
              "      <td>NaN</td>\n",
              "      <td>1470035081</td>\n",
              "      <td>0</td>\n",
              "      <td>NaN</td>\n",
              "    </tr>\n",
              "    <tr>\n",
              "      <th>6</th>\n",
              "      <td>5</td>\n",
              "      <td>5.0</td>\n",
              "      <td>40.0</td>\n",
              "      <td>1.0</td>\n",
              "      <td>5</td>\n",
              "      <td>tablet</td>\n",
              "      <td>NaN</td>\n",
              "      <td>organic</td>\n",
              "      <td>NaN</td>\n",
              "      <td>1470035081</td>\n",
              "      <td>0</td>\n",
              "      <td>NaN</td>\n",
              "    </tr>\n",
              "    <tr>\n",
              "      <th>7</th>\n",
              "      <td>9</td>\n",
              "      <td>7.0</td>\n",
              "      <td>89.0</td>\n",
              "      <td>1.0</td>\n",
              "      <td>1</td>\n",
              "      <td>desktop</td>\n",
              "      <td>NaN</td>\n",
              "      <td>organic</td>\n",
              "      <td>NaN</td>\n",
              "      <td>1470035161</td>\n",
              "      <td>0</td>\n",
              "      <td>NaN</td>\n",
              "    </tr>\n",
              "    <tr>\n",
              "      <th>8</th>\n",
              "      <td>9</td>\n",
              "      <td>7.0</td>\n",
              "      <td>89.0</td>\n",
              "      <td>1.0</td>\n",
              "      <td>2</td>\n",
              "      <td>desktop</td>\n",
              "      <td>NaN</td>\n",
              "      <td>organic</td>\n",
              "      <td>NaN</td>\n",
              "      <td>1470035161</td>\n",
              "      <td>0</td>\n",
              "      <td>NaN</td>\n",
              "    </tr>\n",
              "    <tr>\n",
              "      <th>9</th>\n",
              "      <td>9</td>\n",
              "      <td>7.0</td>\n",
              "      <td>89.0</td>\n",
              "      <td>1.0</td>\n",
              "      <td>3</td>\n",
              "      <td>desktop</td>\n",
              "      <td>NaN</td>\n",
              "      <td>organic</td>\n",
              "      <td>NaN</td>\n",
              "      <td>1470035161</td>\n",
              "      <td>0</td>\n",
              "      <td>NaN</td>\n",
              "    </tr>\n",
              "  </tbody>\n",
              "</table>\n",
              "</div>\n",
              "      <button class=\"colab-df-convert\" onclick=\"convertToInteractive('df-96567a4a-1a5d-4ae2-8c52-b41af657ac36')\"\n",
              "              title=\"Convert this dataframe to an interactive table.\"\n",
              "              style=\"display:none;\">\n",
              "        \n",
              "  <svg xmlns=\"http://www.w3.org/2000/svg\" height=\"24px\"viewBox=\"0 0 24 24\"\n",
              "       width=\"24px\">\n",
              "    <path d=\"M0 0h24v24H0V0z\" fill=\"none\"/>\n",
              "    <path d=\"M18.56 5.44l.94 2.06.94-2.06 2.06-.94-2.06-.94-.94-2.06-.94 2.06-2.06.94zm-11 1L8.5 8.5l.94-2.06 2.06-.94-2.06-.94L8.5 2.5l-.94 2.06-2.06.94zm10 10l.94 2.06.94-2.06 2.06-.94-2.06-.94-.94-2.06-.94 2.06-2.06.94z\"/><path d=\"M17.41 7.96l-1.37-1.37c-.4-.4-.92-.59-1.43-.59-.52 0-1.04.2-1.43.59L10.3 9.45l-7.72 7.72c-.78.78-.78 2.05 0 2.83L4 21.41c.39.39.9.59 1.41.59.51 0 1.02-.2 1.41-.59l7.78-7.78 2.81-2.81c.8-.78.8-2.07 0-2.86zM5.41 20L4 18.59l7.72-7.72 1.47 1.35L5.41 20z\"/>\n",
              "  </svg>\n",
              "      </button>\n",
              "      \n",
              "  <style>\n",
              "    .colab-df-container {\n",
              "      display:flex;\n",
              "      flex-wrap:wrap;\n",
              "      gap: 12px;\n",
              "    }\n",
              "\n",
              "    .colab-df-convert {\n",
              "      background-color: #E8F0FE;\n",
              "      border: none;\n",
              "      border-radius: 50%;\n",
              "      cursor: pointer;\n",
              "      display: none;\n",
              "      fill: #1967D2;\n",
              "      height: 32px;\n",
              "      padding: 0 0 0 0;\n",
              "      width: 32px;\n",
              "    }\n",
              "\n",
              "    .colab-df-convert:hover {\n",
              "      background-color: #E2EBFA;\n",
              "      box-shadow: 0px 1px 2px rgba(60, 64, 67, 0.3), 0px 1px 3px 1px rgba(60, 64, 67, 0.15);\n",
              "      fill: #174EA6;\n",
              "    }\n",
              "\n",
              "    [theme=dark] .colab-df-convert {\n",
              "      background-color: #3B4455;\n",
              "      fill: #D2E3FC;\n",
              "    }\n",
              "\n",
              "    [theme=dark] .colab-df-convert:hover {\n",
              "      background-color: #434B5C;\n",
              "      box-shadow: 0px 1px 3px 1px rgba(0, 0, 0, 0.15);\n",
              "      filter: drop-shadow(0px 1px 2px rgba(0, 0, 0, 0.3));\n",
              "      fill: #FFFFFF;\n",
              "    }\n",
              "  </style>\n",
              "\n",
              "      <script>\n",
              "        const buttonEl =\n",
              "          document.querySelector('#df-96567a4a-1a5d-4ae2-8c52-b41af657ac36 button.colab-df-convert');\n",
              "        buttonEl.style.display =\n",
              "          google.colab.kernel.accessAllowed ? 'block' : 'none';\n",
              "\n",
              "        async function convertToInteractive(key) {\n",
              "          const element = document.querySelector('#df-96567a4a-1a5d-4ae2-8c52-b41af657ac36');\n",
              "          const dataTable =\n",
              "            await google.colab.kernel.invokeFunction('convertToInteractive',\n",
              "                                                     [key], {});\n",
              "          if (!dataTable) return;\n",
              "\n",
              "          const docLinkHtml = 'Like what you see? Visit the ' +\n",
              "            '<a target=\"_blank\" href=https://colab.research.google.com/notebooks/data_table.ipynb>data table notebook</a>'\n",
              "            + ' to learn more about interactive tables.';\n",
              "          element.innerHTML = '';\n",
              "          dataTable['output_type'] = 'display_data';\n",
              "          await google.colab.output.renderOutput(dataTable, element);\n",
              "          const docLink = document.createElement('div');\n",
              "          docLink.innerHTML = docLinkHtml;\n",
              "          element.appendChild(docLink);\n",
              "        }\n",
              "      </script>\n",
              "    </div>\n",
              "  </div>\n",
              "  "
            ]
          },
          "metadata": {},
          "execution_count": 353
        }
      ]
    },
    {
      "cell_type": "code",
      "source": [
        "print(df4.shape)"
      ],
      "metadata": {
        "colab": {
          "base_uri": "https://localhost:8080/"
        },
        "id": "L1l88OEdgW3H",
        "outputId": "53b501bf-20a1-4724-dc1a-9618140b83e6"
      },
      "execution_count": 354,
      "outputs": [
        {
          "output_type": "stream",
          "name": "stdout",
          "text": [
            "(2382169, 12)\n"
          ]
        }
      ]
    },
    {
      "cell_type": "code",
      "source": [
        "#Pulling out the last row of every visitID to create the final dataset\n",
        "lastrowdf = df4.groupby(\"visitId\").tail(1)\n",
        "lastrowdf.head(100).to_csv(\"df4check.csv\", encoding='UTF8') "
      ],
      "metadata": {
        "id": "zVf6qS-SFLiW"
      },
      "execution_count": 356,
      "outputs": []
    },
    {
      "cell_type": "markdown",
      "source": [
        "Understanding the final dataset prepared for the model"
      ],
      "metadata": {
        "id": "tS4BBLDyi1jF"
      }
    },
    {
      "cell_type": "code",
      "source": [
        "print(lastrowdf.shape)\n",
        "#Confirming if lastrowdf has the same number of visitIDs as the original df\n",
        "df[\"visitId\"].unique().size"
      ],
      "metadata": {
        "colab": {
          "base_uri": "https://localhost:8080/"
        },
        "id": "ia4EBkxTFLks",
        "outputId": "2b0bfd86-2d6f-43d8-a5fc-7ce9a33aaf2a"
      },
      "execution_count": 357,
      "outputs": [
        {
          "output_type": "stream",
          "name": "stdout",
          "text": [
            "(490996, 12)\n"
          ]
        },
        {
          "output_type": "execute_result",
          "data": {
            "text/plain": [
              "490996"
            ]
          },
          "metadata": {},
          "execution_count": 357
        }
      ]
    },
    {
      "cell_type": "code",
      "source": [
        "#Changing the output variable format - has revenue vs no revenue\n",
        "lastrowdf[\"hasTransaction\"] = lastrowdf[\"totalTransactionRevenue\"] > 0\n",
        "lastrowdf.head(100)"
      ],
      "metadata": {
        "colab": {
          "base_uri": "https://localhost:8080/",
          "height": 488
        },
        "id": "SbrIeNY8FLpZ",
        "outputId": "0abfbf68-7c72-487f-ec47-1cfc0314af43"
      },
      "execution_count": 358,
      "outputs": [
        {
          "output_type": "execute_result",
          "data": {
            "text/plain": [
              "     hits  pageviews  timeOnSite  newVisits  hitNumber deviceCategory  \\\n",
              "0       1        1.0         NaN        NaN          1         mobile   \n",
              "1       1        1.0         NaN        1.0          1        desktop   \n",
              "6       5        5.0        40.0        1.0          5         tablet   \n",
              "15      9        7.0        89.0        1.0          9        desktop   \n",
              "16      1        1.0         NaN        1.0          1        desktop   \n",
              "..    ...        ...         ...        ...        ...            ...   \n",
              "474     1        1.0         NaN        1.0          1        desktop   \n",
              "475     1        1.0         NaN        1.0          1        desktop   \n",
              "510    35       16.0       233.0        1.0         35         mobile   \n",
              "515     5        5.0       105.0        1.0          5        desktop   \n",
              "516     1        1.0         NaN        1.0          1        desktop   \n",
              "\n",
              "     bounces    medium  totalTransactionRevenue     visitId  hour  \\\n",
              "0        1.0    (none)                      NaN  1470034812     0   \n",
              "1        1.0  referral                      NaN  1470035066     0   \n",
              "6        NaN   organic                      NaN  1470035081     0   \n",
              "15       NaN   organic                      NaN  1470035161     0   \n",
              "16       1.0    (none)                      NaN  1470035170     0   \n",
              "..       ...       ...                      ...         ...   ...   \n",
              "474      1.0  referral                      NaN  1470043062     2   \n",
              "475      1.0    (none)                      NaN  1470043225     2   \n",
              "510      NaN    (none)                      NaN  1470043264     2   \n",
              "515      NaN  referral                      NaN  1470043385     2   \n",
              "516      1.0  referral                      NaN  1470043406     2   \n",
              "\n",
              "     ShoppingCartTime  hasTransaction  \n",
              "0                 NaN           False  \n",
              "1                 NaN           False  \n",
              "6                 NaN           False  \n",
              "15                NaN           False  \n",
              "16                NaN           False  \n",
              "..                ...             ...  \n",
              "474               NaN           False  \n",
              "475               NaN           False  \n",
              "510               NaN           False  \n",
              "515               NaN           False  \n",
              "516               NaN           False  \n",
              "\n",
              "[100 rows x 13 columns]"
            ],
            "text/html": [
              "\n",
              "  <div id=\"df-3216e4c3-e698-4eb8-ad76-36d204a5b11f\">\n",
              "    <div class=\"colab-df-container\">\n",
              "      <div>\n",
              "<style scoped>\n",
              "    .dataframe tbody tr th:only-of-type {\n",
              "        vertical-align: middle;\n",
              "    }\n",
              "\n",
              "    .dataframe tbody tr th {\n",
              "        vertical-align: top;\n",
              "    }\n",
              "\n",
              "    .dataframe thead th {\n",
              "        text-align: right;\n",
              "    }\n",
              "</style>\n",
              "<table border=\"1\" class=\"dataframe\">\n",
              "  <thead>\n",
              "    <tr style=\"text-align: right;\">\n",
              "      <th></th>\n",
              "      <th>hits</th>\n",
              "      <th>pageviews</th>\n",
              "      <th>timeOnSite</th>\n",
              "      <th>newVisits</th>\n",
              "      <th>hitNumber</th>\n",
              "      <th>deviceCategory</th>\n",
              "      <th>bounces</th>\n",
              "      <th>medium</th>\n",
              "      <th>totalTransactionRevenue</th>\n",
              "      <th>visitId</th>\n",
              "      <th>hour</th>\n",
              "      <th>ShoppingCartTime</th>\n",
              "      <th>hasTransaction</th>\n",
              "    </tr>\n",
              "  </thead>\n",
              "  <tbody>\n",
              "    <tr>\n",
              "      <th>0</th>\n",
              "      <td>1</td>\n",
              "      <td>1.0</td>\n",
              "      <td>NaN</td>\n",
              "      <td>NaN</td>\n",
              "      <td>1</td>\n",
              "      <td>mobile</td>\n",
              "      <td>1.0</td>\n",
              "      <td>(none)</td>\n",
              "      <td>NaN</td>\n",
              "      <td>1470034812</td>\n",
              "      <td>0</td>\n",
              "      <td>NaN</td>\n",
              "      <td>False</td>\n",
              "    </tr>\n",
              "    <tr>\n",
              "      <th>1</th>\n",
              "      <td>1</td>\n",
              "      <td>1.0</td>\n",
              "      <td>NaN</td>\n",
              "      <td>1.0</td>\n",
              "      <td>1</td>\n",
              "      <td>desktop</td>\n",
              "      <td>1.0</td>\n",
              "      <td>referral</td>\n",
              "      <td>NaN</td>\n",
              "      <td>1470035066</td>\n",
              "      <td>0</td>\n",
              "      <td>NaN</td>\n",
              "      <td>False</td>\n",
              "    </tr>\n",
              "    <tr>\n",
              "      <th>6</th>\n",
              "      <td>5</td>\n",
              "      <td>5.0</td>\n",
              "      <td>40.0</td>\n",
              "      <td>1.0</td>\n",
              "      <td>5</td>\n",
              "      <td>tablet</td>\n",
              "      <td>NaN</td>\n",
              "      <td>organic</td>\n",
              "      <td>NaN</td>\n",
              "      <td>1470035081</td>\n",
              "      <td>0</td>\n",
              "      <td>NaN</td>\n",
              "      <td>False</td>\n",
              "    </tr>\n",
              "    <tr>\n",
              "      <th>15</th>\n",
              "      <td>9</td>\n",
              "      <td>7.0</td>\n",
              "      <td>89.0</td>\n",
              "      <td>1.0</td>\n",
              "      <td>9</td>\n",
              "      <td>desktop</td>\n",
              "      <td>NaN</td>\n",
              "      <td>organic</td>\n",
              "      <td>NaN</td>\n",
              "      <td>1470035161</td>\n",
              "      <td>0</td>\n",
              "      <td>NaN</td>\n",
              "      <td>False</td>\n",
              "    </tr>\n",
              "    <tr>\n",
              "      <th>16</th>\n",
              "      <td>1</td>\n",
              "      <td>1.0</td>\n",
              "      <td>NaN</td>\n",
              "      <td>1.0</td>\n",
              "      <td>1</td>\n",
              "      <td>desktop</td>\n",
              "      <td>1.0</td>\n",
              "      <td>(none)</td>\n",
              "      <td>NaN</td>\n",
              "      <td>1470035170</td>\n",
              "      <td>0</td>\n",
              "      <td>NaN</td>\n",
              "      <td>False</td>\n",
              "    </tr>\n",
              "    <tr>\n",
              "      <th>...</th>\n",
              "      <td>...</td>\n",
              "      <td>...</td>\n",
              "      <td>...</td>\n",
              "      <td>...</td>\n",
              "      <td>...</td>\n",
              "      <td>...</td>\n",
              "      <td>...</td>\n",
              "      <td>...</td>\n",
              "      <td>...</td>\n",
              "      <td>...</td>\n",
              "      <td>...</td>\n",
              "      <td>...</td>\n",
              "      <td>...</td>\n",
              "    </tr>\n",
              "    <tr>\n",
              "      <th>474</th>\n",
              "      <td>1</td>\n",
              "      <td>1.0</td>\n",
              "      <td>NaN</td>\n",
              "      <td>1.0</td>\n",
              "      <td>1</td>\n",
              "      <td>desktop</td>\n",
              "      <td>1.0</td>\n",
              "      <td>referral</td>\n",
              "      <td>NaN</td>\n",
              "      <td>1470043062</td>\n",
              "      <td>2</td>\n",
              "      <td>NaN</td>\n",
              "      <td>False</td>\n",
              "    </tr>\n",
              "    <tr>\n",
              "      <th>475</th>\n",
              "      <td>1</td>\n",
              "      <td>1.0</td>\n",
              "      <td>NaN</td>\n",
              "      <td>1.0</td>\n",
              "      <td>1</td>\n",
              "      <td>desktop</td>\n",
              "      <td>1.0</td>\n",
              "      <td>(none)</td>\n",
              "      <td>NaN</td>\n",
              "      <td>1470043225</td>\n",
              "      <td>2</td>\n",
              "      <td>NaN</td>\n",
              "      <td>False</td>\n",
              "    </tr>\n",
              "    <tr>\n",
              "      <th>510</th>\n",
              "      <td>35</td>\n",
              "      <td>16.0</td>\n",
              "      <td>233.0</td>\n",
              "      <td>1.0</td>\n",
              "      <td>35</td>\n",
              "      <td>mobile</td>\n",
              "      <td>NaN</td>\n",
              "      <td>(none)</td>\n",
              "      <td>NaN</td>\n",
              "      <td>1470043264</td>\n",
              "      <td>2</td>\n",
              "      <td>NaN</td>\n",
              "      <td>False</td>\n",
              "    </tr>\n",
              "    <tr>\n",
              "      <th>515</th>\n",
              "      <td>5</td>\n",
              "      <td>5.0</td>\n",
              "      <td>105.0</td>\n",
              "      <td>1.0</td>\n",
              "      <td>5</td>\n",
              "      <td>desktop</td>\n",
              "      <td>NaN</td>\n",
              "      <td>referral</td>\n",
              "      <td>NaN</td>\n",
              "      <td>1470043385</td>\n",
              "      <td>2</td>\n",
              "      <td>NaN</td>\n",
              "      <td>False</td>\n",
              "    </tr>\n",
              "    <tr>\n",
              "      <th>516</th>\n",
              "      <td>1</td>\n",
              "      <td>1.0</td>\n",
              "      <td>NaN</td>\n",
              "      <td>1.0</td>\n",
              "      <td>1</td>\n",
              "      <td>desktop</td>\n",
              "      <td>1.0</td>\n",
              "      <td>referral</td>\n",
              "      <td>NaN</td>\n",
              "      <td>1470043406</td>\n",
              "      <td>2</td>\n",
              "      <td>NaN</td>\n",
              "      <td>False</td>\n",
              "    </tr>\n",
              "  </tbody>\n",
              "</table>\n",
              "<p>100 rows × 13 columns</p>\n",
              "</div>\n",
              "      <button class=\"colab-df-convert\" onclick=\"convertToInteractive('df-3216e4c3-e698-4eb8-ad76-36d204a5b11f')\"\n",
              "              title=\"Convert this dataframe to an interactive table.\"\n",
              "              style=\"display:none;\">\n",
              "        \n",
              "  <svg xmlns=\"http://www.w3.org/2000/svg\" height=\"24px\"viewBox=\"0 0 24 24\"\n",
              "       width=\"24px\">\n",
              "    <path d=\"M0 0h24v24H0V0z\" fill=\"none\"/>\n",
              "    <path d=\"M18.56 5.44l.94 2.06.94-2.06 2.06-.94-2.06-.94-.94-2.06-.94 2.06-2.06.94zm-11 1L8.5 8.5l.94-2.06 2.06-.94-2.06-.94L8.5 2.5l-.94 2.06-2.06.94zm10 10l.94 2.06.94-2.06 2.06-.94-2.06-.94-.94-2.06-.94 2.06-2.06.94z\"/><path d=\"M17.41 7.96l-1.37-1.37c-.4-.4-.92-.59-1.43-.59-.52 0-1.04.2-1.43.59L10.3 9.45l-7.72 7.72c-.78.78-.78 2.05 0 2.83L4 21.41c.39.39.9.59 1.41.59.51 0 1.02-.2 1.41-.59l7.78-7.78 2.81-2.81c.8-.78.8-2.07 0-2.86zM5.41 20L4 18.59l7.72-7.72 1.47 1.35L5.41 20z\"/>\n",
              "  </svg>\n",
              "      </button>\n",
              "      \n",
              "  <style>\n",
              "    .colab-df-container {\n",
              "      display:flex;\n",
              "      flex-wrap:wrap;\n",
              "      gap: 12px;\n",
              "    }\n",
              "\n",
              "    .colab-df-convert {\n",
              "      background-color: #E8F0FE;\n",
              "      border: none;\n",
              "      border-radius: 50%;\n",
              "      cursor: pointer;\n",
              "      display: none;\n",
              "      fill: #1967D2;\n",
              "      height: 32px;\n",
              "      padding: 0 0 0 0;\n",
              "      width: 32px;\n",
              "    }\n",
              "\n",
              "    .colab-df-convert:hover {\n",
              "      background-color: #E2EBFA;\n",
              "      box-shadow: 0px 1px 2px rgba(60, 64, 67, 0.3), 0px 1px 3px 1px rgba(60, 64, 67, 0.15);\n",
              "      fill: #174EA6;\n",
              "    }\n",
              "\n",
              "    [theme=dark] .colab-df-convert {\n",
              "      background-color: #3B4455;\n",
              "      fill: #D2E3FC;\n",
              "    }\n",
              "\n",
              "    [theme=dark] .colab-df-convert:hover {\n",
              "      background-color: #434B5C;\n",
              "      box-shadow: 0px 1px 3px 1px rgba(0, 0, 0, 0.15);\n",
              "      filter: drop-shadow(0px 1px 2px rgba(0, 0, 0, 0.3));\n",
              "      fill: #FFFFFF;\n",
              "    }\n",
              "  </style>\n",
              "\n",
              "      <script>\n",
              "        const buttonEl =\n",
              "          document.querySelector('#df-3216e4c3-e698-4eb8-ad76-36d204a5b11f button.colab-df-convert');\n",
              "        buttonEl.style.display =\n",
              "          google.colab.kernel.accessAllowed ? 'block' : 'none';\n",
              "\n",
              "        async function convertToInteractive(key) {\n",
              "          const element = document.querySelector('#df-3216e4c3-e698-4eb8-ad76-36d204a5b11f');\n",
              "          const dataTable =\n",
              "            await google.colab.kernel.invokeFunction('convertToInteractive',\n",
              "                                                     [key], {});\n",
              "          if (!dataTable) return;\n",
              "\n",
              "          const docLinkHtml = 'Like what you see? Visit the ' +\n",
              "            '<a target=\"_blank\" href=https://colab.research.google.com/notebooks/data_table.ipynb>data table notebook</a>'\n",
              "            + ' to learn more about interactive tables.';\n",
              "          element.innerHTML = '';\n",
              "          dataTable['output_type'] = 'display_data';\n",
              "          await google.colab.output.renderOutput(dataTable, element);\n",
              "          const docLink = document.createElement('div');\n",
              "          docLink.innerHTML = docLinkHtml;\n",
              "          element.appendChild(docLink);\n",
              "        }\n",
              "      </script>\n",
              "    </div>\n",
              "  </div>\n",
              "  "
            ]
          },
          "metadata": {},
          "execution_count": 358
        }
      ]
    },
    {
      "cell_type": "code",
      "source": [
        "#dropping the transaction columns because it's not needed anymore as we transformed it\n",
        "df_model = lastrowdf.drop('totalTransactionRevenue', axis=1)\n",
        "df_model.isna().sum()"
      ],
      "metadata": {
        "colab": {
          "base_uri": "https://localhost:8080/"
        },
        "id": "LLS_Ng9vFL02",
        "outputId": "7ad893dd-a686-4bb9-fb71-dfc04dcd64af"
      },
      "execution_count": 360,
      "outputs": [
        {
          "output_type": "execute_result",
          "data": {
            "text/plain": [
              "hits                     0\n",
              "pageviews               50\n",
              "timeOnSite          241832\n",
              "newVisits           102942\n",
              "hitNumber                0\n",
              "deviceCategory           0\n",
              "bounces             249705\n",
              "medium                   0\n",
              "visitId                  0\n",
              "hour                     0\n",
              "ShoppingCartTime    453161\n",
              "hasTransaction           0\n",
              "dtype: int64"
            ]
          },
          "metadata": {},
          "execution_count": 360
        }
      ]
    },
    {
      "cell_type": "code",
      "source": [
        "#Filling na pageviews with the mode of the column\n",
        "df_model['pageviews'].mode()\n",
        "\n",
        "df_model['pageviews'] = df_model['pageviews'].fillna(1)\n",
        "df_model['pageviews'] = df_model['pageviews'].astype(int)\n",
        "df_model.isna().sum()"
      ],
      "metadata": {
        "colab": {
          "base_uri": "https://localhost:8080/"
        },
        "id": "aj8rruLpBvLk",
        "outputId": "724f180d-ff24-4e59-b9dd-1bd77972792d"
      },
      "execution_count": 361,
      "outputs": [
        {
          "output_type": "execute_result",
          "data": {
            "text/plain": [
              "hits                     0\n",
              "pageviews                0\n",
              "timeOnSite          241832\n",
              "newVisits           102942\n",
              "hitNumber                0\n",
              "deviceCategory           0\n",
              "bounces             249705\n",
              "medium                   0\n",
              "visitId                  0\n",
              "hour                     0\n",
              "ShoppingCartTime    453161\n",
              "hasTransaction           0\n",
              "dtype: int64"
            ]
          },
          "metadata": {},
          "execution_count": 361
        }
      ]
    },
    {
      "cell_type": "code",
      "source": [
        "#Filling rest of the empty nan columns with 0\n",
        "df_model['timeOnSite'] = df_model['timeOnSite'].replace(np.nan, 0)\n",
        "df_model['newVisits'] = df_model['newVisits'].replace(np.nan, 0)\n",
        "df_model['bounces'] = df_model['bounces'].replace(np.nan, 0)\n",
        "df_model['ShoppingCartTime'] = df_model['ShoppingCartTime'].replace(np.nan, 0)\n",
        "df_model.isna().sum()"
      ],
      "metadata": {
        "colab": {
          "base_uri": "https://localhost:8080/"
        },
        "id": "QiK9Yda6BvNq",
        "outputId": "30fe06cf-b7e6-4ea8-9ebb-141059a32432"
      },
      "execution_count": 362,
      "outputs": [
        {
          "output_type": "execute_result",
          "data": {
            "text/plain": [
              "hits                0\n",
              "pageviews           0\n",
              "timeOnSite          0\n",
              "newVisits           0\n",
              "hitNumber           0\n",
              "deviceCategory      0\n",
              "bounces             0\n",
              "medium              0\n",
              "visitId             0\n",
              "hour                0\n",
              "ShoppingCartTime    0\n",
              "hasTransaction      0\n",
              "dtype: int64"
            ]
          },
          "metadata": {},
          "execution_count": 362
        }
      ]
    },
    {
      "cell_type": "code",
      "source": [
        "#Checking the data types\n",
        "df_model.dtypes"
      ],
      "metadata": {
        "colab": {
          "base_uri": "https://localhost:8080/"
        },
        "id": "SpgC9y26BvQS",
        "outputId": "5ee45a1e-afe9-4833-9918-4142bb2e47c8"
      },
      "execution_count": 364,
      "outputs": [
        {
          "output_type": "execute_result",
          "data": {
            "text/plain": [
              "hits                  int64\n",
              "pageviews             int64\n",
              "timeOnSite          float64\n",
              "newVisits           float64\n",
              "hitNumber             int64\n",
              "deviceCategory       object\n",
              "bounces             float64\n",
              "medium               object\n",
              "visitId               int64\n",
              "hour                  int64\n",
              "ShoppingCartTime    float64\n",
              "hasTransaction         bool\n",
              "dtype: object"
            ]
          },
          "metadata": {},
          "execution_count": 364
        }
      ]
    },
    {
      "cell_type": "code",
      "source": [
        "df_model[\"hasTransaction\"].value_counts()"
      ],
      "metadata": {
        "colab": {
          "base_uri": "https://localhost:8080/"
        },
        "id": "m3m7AbqOtOUM",
        "outputId": "489c6c0e-5eac-46be-a372-65bcec9a17d0"
      },
      "execution_count": 365,
      "outputs": [
        {
          "output_type": "execute_result",
          "data": {
            "text/plain": [
              "False    485155\n",
              "True       5841\n",
              "Name: hasTransaction, dtype: int64"
            ]
          },
          "metadata": {},
          "execution_count": 365
        }
      ]
    },
    {
      "cell_type": "code",
      "source": [
        "#Most of the visitors do not make a purahcse \n",
        "sns.countplot(x='hasTransaction', data=df_model)"
      ],
      "metadata": {
        "colab": {
          "base_uri": "https://localhost:8080/",
          "height": 296
        },
        "id": "nlHFJvweDTLr",
        "outputId": "56dec1fb-d588-40d1-e738-ca851e9ebb09"
      },
      "execution_count": 367,
      "outputs": [
        {
          "output_type": "execute_result",
          "data": {
            "text/plain": [
              "<matplotlib.axes._subplots.AxesSubplot at 0x7f154967e790>"
            ]
          },
          "metadata": {},
          "execution_count": 367
        },
        {
          "output_type": "display_data",
          "data": {
            "text/plain": [
              "<Figure size 432x288 with 1 Axes>"
            ],
            "image/png": "[encoded data removed]"
          },
          "metadata": {
            "needs_background": "light"
          }
        }
      ]
    },
    {
      "cell_type": "markdown",
      "source": [
        "## **Step 4: Building the NN model**"
      ],
      "metadata": {
        "id": "xKFs0Xk8t38a"
      }
    },
    {
      "cell_type": "code",
      "source": [
        "#Encoding target data (labels)\n",
        "le = LabelEncoder()\n",
        "df_model[\"hasTransaction\"] = le.fit_transform(df_model[\"hasTransaction\"])"
      ],
      "metadata": {
        "id": "0TVwigWdtOWn"
      },
      "execution_count": 368,
      "outputs": []
    },
    {
      "cell_type": "code",
      "source": [
        "#Scaling and transforming numeric and categorical data\n",
        "scaler = StandardScaler()\n",
        "\n",
        "X = df_model.loc[:, df_model.columns != 'hasTransaction']\n",
        "y = df_model['hasTransaction'].to_numpy()\n",
        "\n",
        "numeric_features = X.select_dtypes(exclude='O').columns\n",
        "scaled_cols = scaler.fit_transform(df_model[numeric_features])\n",
        "print(scaled_cols.shape)\n",
        "\n",
        "categorical_features = X.select_dtypes(include='O').columns\n",
        "categorical_transformer = OneHotEncoder(handle_unknown=\"ignore\")\n",
        "encoded_cols = categorical_transformer.fit_transform(df_model[categorical_features])\n",
        "\n",
        "print(encoded_cols.shape)\n",
        "print(type(encoded_cols))\n",
        "\n",
        "joined_cols = sp.hstack((scaled_cols, encoded_cols))\n",
        "print(joined_cols.shape)"
      ],
      "metadata": {
        "colab": {
          "base_uri": "https://localhost:8080/"
        },
        "id": "ME05rmXLtOeQ",
        "outputId": "ff027f01-3ef0-4e8a-c74a-16f757753a1a"
      },
      "execution_count": 370,
      "outputs": [
        {
          "output_type": "stream",
          "name": "stdout",
          "text": [
            "(490996, 9)\n",
            "(490996, 10)\n",
            "<class 'scipy.sparse.csr.csr_matrix'>\n",
            "(490996, 19)\n"
          ]
        }
      ]
    },
    {
      "cell_type": "code",
      "source": [
        "#Splitting the data into train and test sets\n",
        "\n",
        "X = joined_cols\n",
        "y = df_model['hasTransaction'].to_numpy()\n",
        "\n",
        "X_train, X_test, y_train, y_test = train_test_split(X, y, stratify=y, test_size=0.25, random_state=50)\n",
        "\n",
        "print((X_train.shape), 'train sample')\n",
        "print((X_test.shape), 'test sample')"
      ],
      "metadata": {
        "colab": {
          "base_uri": "https://localhost:8080/"
        },
        "id": "qoroMHIQtObO",
        "outputId": "313adb9c-b1b7-4c58-c3f5-2aa245d7f638"
      },
      "execution_count": 371,
      "outputs": [
        {
          "output_type": "stream",
          "name": "stdout",
          "text": [
            "(368247, 19) train sample\n",
            "(122749, 19) test sample\n"
          ]
        }
      ]
    },
    {
      "cell_type": "code",
      "source": [
        "#Creating the NN classifier using 4 layers with 2 hidden layers\n",
        "def classifierCreator():\n",
        "    clf = tf.keras.models.Sequential()\n",
        "\n",
        "    clf.add(Dense(30, input_shape=(X_train.shape[1],), activation='relu'))\n",
        "    clf.add(Dense(10, activation='relu'))\n",
        "    clf.add(Dense(5, activation='relu'))\n",
        "    clf.add(Dense(1,  activation='relu'))\n",
        "\n",
        "    return clf"
      ],
      "metadata": {
        "id": "ay3rQnKDtOlD"
      },
      "execution_count": 372,
      "outputs": []
    },
    {
      "cell_type": "code",
      "source": [
        "#Creating the classifier object \n",
        "\n",
        "classifier = classifierCreator()\n",
        "classifier.compile(loss='binary_crossentropy', optimizer='adam', metrics=['accuracy'])"
      ],
      "metadata": {
        "id": "dSBGYCxb6wkn"
      },
      "execution_count": 373,
      "outputs": []
    },
    {
      "cell_type": "code",
      "source": [
        "#Using early stopping to prevent overfitting\n",
        "early_stopping = tf.keras.callbacks.EarlyStopping(\n",
        "    monitor=\"val_prc\", verbose=1, patience=10, mode=\"max\", restore_best_weights=True)\n",
        "\n",
        "\n",
        "#Fitting the dataset to the train values\n",
        "history = classifier.fit(X_train, \n",
        "                         y_train, \n",
        "                         #validation_data=X_test,\n",
        "                         callbacks=[early_stopping], \n",
        "                         epochs=1, \n",
        "                         verbose=1)\n",
        "classifier.summary()\n",
        "#history.history.keys()"
      ],
      "metadata": {
        "colab": {
          "base_uri": "https://localhost:8080/"
        },
        "id": "dfDiLC7-6wms",
        "outputId": "fd34473b-3c4f-4254-e210-71e799256ece"
      },
      "execution_count": 375,
      "outputs": [
        {
          "output_type": "stream",
          "name": "stdout",
          "text": [
            "11498/11508 [============================>.] - ETA: 0s - loss: 0.1835 - accuracy: 0.9881"
          ]
        },
        {
          "output_type": "stream",
          "name": "stderr",
          "text": [
            "WARNING:tensorflow:Early stopping conditioned on metric `val_prc` which is not available. Available metrics are: loss,accuracy\n"
          ]
        },
        {
          "output_type": "stream",
          "name": "stdout",
          "text": [
            "\b\b\b\b\b\b\b\b\b\b\b\b\b\b\b\b\b\b\b\b\b\b\b\b\b\b\b\b\b\b\b\b\b\b\b\b\b\b\b\b\b\b\b\b\b\b\b\b\b\b\b\b\b\b\b\b\b\b\b\b\b\b\b\b\b\b\b\b\b\b\b\b\b\b\b\b\b\b\b\b\b\b\b\b\b\b\b\b\r11508/11508 [==============================] - 32s 3ms/step - loss: 0.1835 - accuracy: 0.9881\n",
            "Model: \"sequential_11\"\n",
            "_________________________________________________________________\n",
            " Layer (type)                Output Shape              Param #   \n",
            "=================================================================\n",
            " dense_27 (Dense)            (None, 30)                600       \n",
            "                                                                 \n",
            " dense_28 (Dense)            (None, 10)                310       \n",
            "                                                                 \n",
            " dense_29 (Dense)            (None, 5)                 55        \n",
            "                                                                 \n",
            " dense_30 (Dense)            (None, 1)                 6         \n",
            "                                                                 \n",
            "=================================================================\n",
            "Total params: 971\n",
            "Trainable params: 971\n",
            "Non-trainable params: 0\n",
            "_________________________________________________________________\n"
          ]
        }
      ]
    },
    {
      "cell_type": "code",
      "source": [
        "#Predicting the test set values and checking results\n",
        "predictTest = classifier.predict(X_test)\n",
        "classesTest=np.argmax(predictTest,axis=1)\n",
        "\n",
        "print(classification_report(y_test, classesTest)) \n",
        "print('ROC AUC Score: ',roc(y_test, classesTest))\n",
        "\n",
        "print(classifier.evaluate(X_test, y_test))"
      ],
      "metadata": {
        "colab": {
          "base_uri": "https://localhost:8080/"
        },
        "id": "Kn0BpkH76wo8",
        "outputId": "72a468d9-b487-4108-9003-d74fd5643c3f"
      },
      "execution_count": 376,
      "outputs": [
        {
          "output_type": "stream",
          "name": "stdout",
          "text": [
            "3836/3836 [==============================] - 6s 2ms/step\n",
            "              precision    recall  f1-score   support\n",
            "\n",
            "           0       0.99      1.00      0.99    121289\n",
            "           1       0.00      0.00      0.00      1460\n",
            "\n",
            "    accuracy                           0.99    122749\n",
            "   macro avg       0.49      0.50      0.50    122749\n",
            "weighted avg       0.98      0.99      0.98    122749\n",
            "\n",
            "ROC AUC Score:  0.5\n",
            "3836/3836 [==============================] - 8s 2ms/step - loss: 0.1835 - accuracy: 0.9881\n",
            "[0.1834682822227478, 0.988105833530426]\n"
          ]
        }
      ]
    },
    {
      "cell_type": "markdown",
      "source": [
        "The model has a high accuracy percentage - 98% \n",
        "\n",
        "Hoever, the model's precision to predict \"no transactions\" or the value of \"0\" is higher than the precision to predict a transaction - \"1\".\n",
        "\n",
        "Due to low precision to predict transactions, the project will create additional models in the next steps."
      ],
      "metadata": {
        "id": "eZ0CMIv3GZL7"
      }
    },
    {
      "cell_type": "markdown",
      "source": [
        "## **Step 5: Building the random forest model**"
      ],
      "metadata": {
        "id": "G0OVj4Gtr7xV"
      }
    },
    {
      "cell_type": "code",
      "source": [
        "#Assigning X and Y features\n",
        "X = df_model.loc[:, df_model.columns != 'hasTransaction']\n",
        "y = df_model['hasTransaction'].to_numpy()"
      ],
      "metadata": {
        "id": "PZX6kaiYUSBZ"
      },
      "execution_count": 378,
      "outputs": []
    },
    {
      "cell_type": "code",
      "source": [
        "#Treating numeric and categorical values as done earlier\n",
        "numeric_features = X.select_dtypes(exclude='O').columns\n",
        "scaled_cols = scaler.fit_transform(df_model[numeric_features])\n",
        "print(scaled_cols.shape)\n",
        "\n",
        "categorical_features = X.select_dtypes(include='O').columns\n",
        "categorical_transformer = OneHotEncoder(handle_unknown=\"ignore\")\n",
        "encoded_cols = categorical_transformer.fit_transform(df_model[categorical_features])\n",
        "print(encoded_cols.shape)\n",
        "print(type(encoded_cols))\n",
        "\n",
        "joined_cols = sp.hstack((scaled_cols, encoded_cols))\n",
        "print(joined_cols.shape)"
      ],
      "metadata": {
        "colab": {
          "base_uri": "https://localhost:8080/"
        },
        "id": "2ORKaPx0tFRe",
        "outputId": "3ca95e2a-3991-4153-aa1c-5b9b761fd980"
      },
      "execution_count": 379,
      "outputs": [
        {
          "output_type": "stream",
          "name": "stdout",
          "text": [
            "(490996, 9)\n",
            "(490996, 10)\n",
            "<class 'scipy.sparse.csr.csr_matrix'>\n",
            "(490996, 19)\n"
          ]
        }
      ]
    },
    {
      "cell_type": "code",
      "source": [
        "#Same as in the neural network model\n",
        "X = joined_cols\n",
        "y = df_model['hasTransaction'].to_numpy()"
      ],
      "metadata": {
        "id": "_zdTpXGFtW9X"
      },
      "execution_count": 380,
      "outputs": []
    },
    {
      "cell_type": "code",
      "source": [
        "#Creating the random forest model using a pipeline\n",
        "\n",
        "clf_rf = RandomForestClassifier(random_state=0)\n",
        "pipe = Pipeline([('classifier_step', clf_rf)])\n",
        "\n",
        "# Create training and test sets\n",
        "X_train, X_test, y_train, y_test = train_test_split(X, \n",
        "                                                    y,\n",
        "                                                    test_size=0.25, \n",
        "                                                    random_state=0)\n",
        "\n",
        "param_grid = {\n",
        "    'classifier_step__n_estimators': [10, 20, 30],\n",
        "    #'classifier_step__max_features': [2, 4, 8, 10, None],\n",
        "}\n",
        "\n",
        "search = GridSearchCV(pipe, param_grid, n_jobs=-1, cv=5)\n",
        "search.fit(X_train, y_train)"
      ],
      "metadata": {
        "colab": {
          "base_uri": "https://localhost:8080/"
        },
        "id": "_fOHD_WaUSDo",
        "outputId": "d8925f75-ef44-45d4-9e1d-e2ab9260a126"
      },
      "execution_count": 381,
      "outputs": [
        {
          "output_type": "execute_result",
          "data": {
            "text/plain": [
              "GridSearchCV(cv=5,\n",
              "             estimator=Pipeline(steps=[('classifier_step',\n",
              "                                        RandomForestClassifier(random_state=0))]),\n",
              "             n_jobs=-1,\n",
              "             param_grid={'classifier_step__n_estimators': [10, 20, 30]})"
            ]
          },
          "metadata": {},
          "execution_count": 381
        }
      ]
    },
    {
      "cell_type": "code",
      "source": [
        "#Fitting the model on the test set\n",
        "y_pred = search.predict(X_test)"
      ],
      "metadata": {
        "id": "oEjd9OIlUSF_"
      },
      "execution_count": 382,
      "outputs": []
    },
    {
      "cell_type": "code",
      "source": [
        "#Checking the f1 score on the test set\n",
        "print(classification_report(y_test, y_pred))"
      ],
      "metadata": {
        "colab": {
          "base_uri": "https://localhost:8080/"
        },
        "id": "3NzNavMlUSIG",
        "outputId": "c0fae368-42c8-4722-8145-41fe63b2cf08"
      },
      "execution_count": 383,
      "outputs": [
        {
          "output_type": "stream",
          "name": "stdout",
          "text": [
            "              precision    recall  f1-score   support\n",
            "\n",
            "           0       0.99      1.00      0.99    121291\n",
            "           1       0.62      0.37      0.47      1458\n",
            "\n",
            "    accuracy                           0.99    122749\n",
            "   macro avg       0.81      0.69      0.73    122749\n",
            "weighted avg       0.99      0.99      0.99    122749\n",
            "\n"
          ]
        }
      ]
    },
    {
      "cell_type": "markdown",
      "source": [
        "The precision for both classes is better using the random forest model. \n",
        "\n",
        "The nest steps use one last model to see which performs the best."
      ],
      "metadata": {
        "id": "nlZSSfsYIyF5"
      }
    },
    {
      "cell_type": "markdown",
      "source": [
        "## **Step 6: Building the Logistic Regression model**"
      ],
      "metadata": {
        "id": "e5bfWgiBVYlG"
      }
    },
    {
      "cell_type": "code",
      "source": [
        "#Specifying X and Y variables to ensure no errors occur\n",
        "X = df_model.loc[:, df_model.columns != 'hasTransaction']\n",
        "y = df_model['hasTransaction'].to_numpy()\n",
        "\n",
        "X_train, X_test, y_train, y_test = train_test_split(X, y, stratify=y, test_size=0.25, random_state=500)\n",
        "\n",
        "columns = df_model.columns\n",
        "print(columns)"
      ],
      "metadata": {
        "colab": {
          "base_uri": "https://localhost:8080/"
        },
        "id": "xmcUwXDzWhrS",
        "outputId": "9e0d9d27-2d74-42c8-a494-6fa61965eff1"
      },
      "execution_count": 472,
      "outputs": [
        {
          "output_type": "stream",
          "name": "stdout",
          "text": [
            "Index(['hits', 'pageviews', 'timeOnSite', 'newVisits', 'hitNumber',\n",
            "       'deviceCategory', 'bounces', 'medium', 'visitId', 'hour',\n",
            "       'ShoppingCartTime', 'hasTransaction'],\n",
            "      dtype='object')\n"
          ]
        }
      ]
    },
    {
      "cell_type": "code",
      "source": [
        "#Treating numeric and categorical features as done previously\n",
        "lr_numeric_features = X.select_dtypes(exclude='O').columns\n",
        "\n",
        "lr_numeric_transformer = Pipeline(\n",
        "    steps=[(\"scaler\", StandardScaler())])\n",
        "\n",
        "lr_categorical_features = X.select_dtypes(include='O').columns\n",
        "lr_categorical_transformer = OneHotEncoder(handle_unknown=\"ignore\")\n",
        "\n",
        "preprocessor = ColumnTransformer(\n",
        "    transformers=[\n",
        "        (\"num\", lr_numeric_transformer, lr_numeric_features),\n",
        "        (\"cat\", lr_categorical_transformer, lr_categorical_features)])"
      ],
      "metadata": {
        "id": "2aFIEnukUR1P"
      },
      "execution_count": 473,
      "outputs": []
    },
    {
      "cell_type": "code",
      "source": [
        "#Adding a linear classifier to preprocessing pipeline\n",
        "clf_lr = Pipeline(\n",
        "    steps=[(\"preprocessor\", preprocessor), \n",
        "           (\"classifier\", LogisticRegression(random_state=500))]\n",
        ")\n",
        "\n",
        "clf_lr.fit(X_train, y_train)\n",
        "print(clf_lr.get_params)\n",
        "print(\"model score: %.3f\" % clf_lr.score(X_test, y_test))"
      ],
      "metadata": {
        "colab": {
          "base_uri": "https://localhost:8080/"
        },
        "id": "QhKyu_LWUR30",
        "outputId": "87388112-adf2-434f-e8e3-b6ef84fd2b93"
      },
      "execution_count": 474,
      "outputs": [
        {
          "output_type": "stream",
          "name": "stdout",
          "text": [
            "<bound method Pipeline.get_params of Pipeline(steps=[('preprocessor',\n",
            "                 ColumnTransformer(transformers=[('num',\n",
            "                                                  Pipeline(steps=[('scaler',\n",
            "                                                                   StandardScaler())]),\n",
            "                                                  Index(['hits', 'pageviews', 'timeOnSite', 'newVisits', 'hitNumber', 'bounces',\n",
            "       'visitId', 'hour', 'ShoppingCartTime'],\n",
            "      dtype='object')),\n",
            "                                                 ('cat',\n",
            "                                                  OneHotEncoder(handle_unknown='ignore'),\n",
            "                                                  Index(['deviceCategory', 'medium'], dtype='object'))])),\n",
            "                ('classifier', LogisticRegression(random_state=500))])>\n",
            "model score: 0.988\n"
          ]
        }
      ]
    },
    {
      "cell_type": "code",
      "source": [
        "#Evaluating the model on test set\n",
        "y_pred_lr = clf_lr.predict(X_test)\n",
        "\n",
        "print(classification_report(y_test, y_pred_lr))"
      ],
      "metadata": {
        "colab": {
          "base_uri": "https://localhost:8080/"
        },
        "id": "EDacVtIVUR6D",
        "outputId": "91b7f902-deb8-4c2e-8c66-9f614ad44d37"
      },
      "execution_count": 475,
      "outputs": [
        {
          "output_type": "stream",
          "name": "stdout",
          "text": [
            "              precision    recall  f1-score   support\n",
            "\n",
            "           0       0.99      1.00      0.99    121289\n",
            "           1       0.52      0.17      0.25      1460\n",
            "\n",
            "    accuracy                           0.99    122749\n",
            "   macro avg       0.76      0.58      0.62    122749\n",
            "weighted avg       0.98      0.99      0.99    122749\n",
            "\n"
          ]
        }
      ]
    },
    {
      "cell_type": "markdown",
      "source": [
        "The project will continue using logistic regression for the final predicting model and feature importance extracting. "
      ],
      "metadata": {
        "id": "3dmtFmJFS8qP"
      }
    },
    {
      "cell_type": "markdown",
      "source": [
        "## **Step 7: Logistic Regression Grid Search**"
      ],
      "metadata": {
        "id": "kHRiEtsBzqn7"
      }
    },
    {
      "cell_type": "code",
      "source": [
        "#Attempt create random forests grid param\n",
        "# param_grid = {\n",
        "#     'classifier_step__n_estimators': [50, 100, 200],\n",
        "#     'classifier_step__max_features': [2, 4, 8, 10, None],\n",
        "# }\n",
        "\n",
        "# search = GridSearchCV(pipe, param_grid, n_jobs=-1, cv=5)\n",
        "# search.fit(X_train, y_train)"
      ],
      "metadata": {
        "id": "a58iWoAnRFBj"
      },
      "execution_count": 448,
      "outputs": []
    },
    {
      "cell_type": "code",
      "source": [
        "#Setting parameters of the pipelines \n",
        "param_grid = {\n",
        "    'classifier__C': [0.01, 0.1, 1, 10],\n",
        "    }\n",
        "\n",
        "search = GridSearchCV(clf_lr, param_grid, n_jobs=-1, cv=5)\n",
        "search.fit(X_train, y_train)"
      ],
      "metadata": {
        "colab": {
          "base_uri": "https://localhost:8080/"
        },
        "id": "0M-NtNmVzt6d",
        "outputId": "f3577db3-d4cc-47c1-b110-897894ea60d6"
      },
      "execution_count": 447,
      "outputs": [
        {
          "output_type": "execute_result",
          "data": {
            "text/plain": [
              "GridSearchCV(cv=5,\n",
              "             estimator=Pipeline(steps=[('preprocessor',\n",
              "                                        ColumnTransformer(transformers=[('num',\n",
              "                                                                         Pipeline(steps=[('scaler',\n",
              "                                                                                          StandardScaler())]),\n",
              "                                                                         Index(['hits', 'pageviews', 'timeOnSite', 'newVisits', 'hitNumber', 'bounces',\n",
              "       'visitId', 'hour', 'ShoppingCartTime'],\n",
              "      dtype='object')),\n",
              "                                                                        ('cat',\n",
              "                                                                         OneHotEncoder(handle_unknown='ignore'),\n",
              "                                                                         Index(['deviceCategory', 'medium'], dtype='object'))])),\n",
              "                                       ('classifier',\n",
              "                                        LogisticRegression(random_state=500))]),\n",
              "             n_jobs=-1, param_grid={'classifier__C': [0.01, 0.1, 1, 10]})"
            ]
          },
          "metadata": {},
          "execution_count": 447
        }
      ]
    },
    {
      "cell_type": "code",
      "source": [
        "print(\"Best parameter (CV score=%0.3f):\" % search.best_score_)\n",
        "print(search.best_params_)"
      ],
      "metadata": {
        "colab": {
          "base_uri": "https://localhost:8080/"
        },
        "id": "X12PMnChz123",
        "outputId": "96e3a291-786e-4f04-8e42-0ea2e31c05df"
      },
      "execution_count": 449,
      "outputs": [
        {
          "output_type": "stream",
          "name": "stdout",
          "text": [
            "Best parameter (CV score=0.988):\n",
            "{'classifier__C': 10}\n"
          ]
        }
      ]
    },
    {
      "cell_type": "markdown",
      "source": [
        "## **Step 8: Log Regression Confusion Matrix & PR Curve**"
      ],
      "metadata": {
        "id": "OJsbZeWa0c1S"
      }
    },
    {
      "cell_type": "code",
      "source": [
        "y_pred = search.predict(X_test)"
      ],
      "metadata": {
        "id": "4fB_Jm1P0XD1"
      },
      "execution_count": 450,
      "outputs": []
    },
    {
      "cell_type": "code",
      "source": [
        "print(classification_report(y_test, y_pred))"
      ],
      "metadata": {
        "colab": {
          "base_uri": "https://localhost:8080/"
        },
        "id": "ivi5Kzrc0ie6",
        "outputId": "a435042f-05cb-4a41-b00a-b8a7c663cdc5"
      },
      "execution_count": 451,
      "outputs": [
        {
          "output_type": "stream",
          "name": "stdout",
          "text": [
            "              precision    recall  f1-score   support\n",
            "\n",
            "           0       0.99      1.00      0.99    121289\n",
            "           1       0.52      0.17      0.26      1460\n",
            "\n",
            "    accuracy                           0.99    122749\n",
            "   macro avg       0.76      0.58      0.62    122749\n",
            "weighted avg       0.98      0.99      0.99    122749\n",
            "\n"
          ]
        }
      ]
    },
    {
      "cell_type": "code",
      "source": [
        "display = PrecisionRecallDisplay.from_estimator(\n",
        "    search, X_test, y_test, name=\"Logistic Regression\"\n",
        ")\n",
        "_ = display.ax_.set_title(\"Precision-Recall curve\")"
      ],
      "metadata": {
        "colab": {
          "base_uri": "https://localhost:8080/",
          "height": 295
        },
        "id": "LOddZywf0qHb",
        "outputId": "8cddc8e5-bf2f-4e9e-ed5e-2f7d0b1bc137"
      },
      "execution_count": 452,
      "outputs": [
        {
          "output_type": "display_data",
          "data": {
            "text/plain": [
              "<Figure size 432x288 with 1 Axes>"
            ],
            "image/png": "[encoded data removed]"
          },
          "metadata": {
            "needs_background": "light"
          }
        }
      ]
    },
    {
      "cell_type": "markdown",
      "source": [
        "Inference: There area under the curve is not wide, which represents high recall but low precision"
      ],
      "metadata": {
        "id": "91djRFNXTbhE"
      }
    },
    {
      "cell_type": "markdown",
      "source": [
        "## **Step 9: Log Regression Feature Importance Calculation**"
      ],
      "metadata": {
        "id": "exCpJA0G0wNm"
      }
    },
    {
      "cell_type": "code",
      "source": [
        "#Using the logistic regression model to find the feature importance using coefficients\n",
        "print(clf_lr.get_feature_names_out)\n",
        "print((abs(clf_lr[\"classifier\"].coef_)))"
      ],
      "metadata": {
        "colab": {
          "base_uri": "https://localhost:8080/"
        },
        "id": "qTSp-helUR-y",
        "outputId": "1c45442a-eabd-47eb-d3d0-eade31f3a9bf"
      },
      "execution_count": 453,
      "outputs": [
        {
          "output_type": "stream",
          "name": "stdout",
          "text": [
            "<bound method Pipeline.get_feature_names_out of Pipeline(steps=[('preprocessor',\n",
            "                 ColumnTransformer(transformers=[('num',\n",
            "                                                  Pipeline(steps=[('scaler',\n",
            "                                                                   StandardScaler())]),\n",
            "                                                  Index(['hits', 'pageviews', 'timeOnSite', 'newVisits', 'hitNumber', 'bounces',\n",
            "       'visitId', 'hour', 'ShoppingCartTime'],\n",
            "      dtype='object')),\n",
            "                                                 ('cat',\n",
            "                                                  OneHotEncoder(handle_unknown='ignore'),\n",
            "                                                  Index(['deviceCategory', 'medium'], dtype='object'))])),\n",
            "                ('classifier', LogisticRegression(random_state=500))])>\n",
            "[[1.48793413 2.34741861 0.07496796 0.47042958 0.25723301 3.13480263\n",
            "  0.0319906  0.08268189 0.11582381 1.0884362  2.08139046 2.07091578\n",
            "  0.15481742 0.00910425 2.78645162 0.08698834 0.14604871 0.54802256\n",
            "  1.81894437]]\n"
          ]
        }
      ]
    },
    {
      "cell_type": "code",
      "source": [
        "df_model.dtypes"
      ],
      "metadata": {
        "colab": {
          "base_uri": "https://localhost:8080/"
        },
        "id": "WP-wFpbkU8ho",
        "outputId": "7e467e06-12cb-4934-89e8-f2e6b961ff6e"
      },
      "execution_count": 454,
      "outputs": [
        {
          "output_type": "execute_result",
          "data": {
            "text/plain": [
              "hits                  int64\n",
              "pageviews             int64\n",
              "timeOnSite          float64\n",
              "newVisits           float64\n",
              "hitNumber             int64\n",
              "deviceCategory       object\n",
              "bounces             float64\n",
              "medium               object\n",
              "visitId               int64\n",
              "hour                  int64\n",
              "ShoppingCartTime    float64\n",
              "hasTransaction        int64\n",
              "dtype: object"
            ]
          },
          "metadata": {},
          "execution_count": 454
        }
      ]
    },
    {
      "cell_type": "markdown",
      "source": [
        "This indicates that column \"device category\" has is an important feature for a visit turning into a revenue generating visit. However, the specific category of devices cannot be inferred yet.  "
      ],
      "metadata": {
        "id": "cm8d3uP8UwVq"
      }
    },
    {
      "cell_type": "markdown",
      "source": [
        "## **Step 10: Prediction using the log reg model**"
      ],
      "metadata": {
        "id": "Id25Eupr04_3"
      }
    },
    {
      "cell_type": "code",
      "source": [
        "# declaring the function\n",
        "def transaction_activity (row, model):\n",
        "   \n",
        "   result = clf_lr.predict(row)\n",
        "   \n",
        "   return result"
      ],
      "metadata": {
        "id": "gKiP4x8cUSKe"
      },
      "execution_count": 455,
      "outputs": []
    },
    {
      "cell_type": "code",
      "source": [
        "print(\"Predicted value:\", transaction_activity(X_test.iloc[[720]], clf_lr))\n",
        "\n",
        "print(\"Real value:\", y_test[720])"
      ],
      "metadata": {
        "colab": {
          "base_uri": "https://localhost:8080/"
        },
        "id": "rHgjETR_USOV",
        "outputId": "410037d3-fe01-4a1a-ebdf-257928ba699f"
      },
      "execution_count": 460,
      "outputs": [
        {
          "output_type": "stream",
          "name": "stdout",
          "text": [
            "Predicted value: [0]\n",
            "Real value: 1\n"
          ]
        }
      ]
    },
    {
      "cell_type": "markdown",
      "source": [
        "This reflects that the model makes an incorrect prediction of \"0\" many times"
      ],
      "metadata": {
        "id": "xD1BHq27V9KZ"
      }
    },
    {
      "cell_type": "code",
      "source": [
        "#Checking which rows have \"1\" as real value\n",
        "for i in range(y_test.shape[0]):\n",
        "  if y_test[i] == 1:\n",
        "   print(i)"
      ],
      "metadata": {
        "colab": {
          "base_uri": "https://localhost:8080/"
        },
        "id": "p3J17YUHVi9f",
        "outputId": "40b0401c-614f-4232-90d1-0528c5d6a5a5"
      },
      "execution_count": 459,
      "outputs": [
        {
          "output_type": "stream",
          "name": "stdout",
          "text": [
            "3\n",
            "270\n",
            "292\n",
            "313\n",
            "385\n",
            "524\n",
            "543\n",
            "610\n",
            "715\n",
            "720\n",
            "796\n",
            "938\n",
            "1005\n",
            "1195\n",
            "1197\n",
            "1228\n",
            "1239\n",
            "1283\n",
            "1306\n",
            "1398\n",
            "1402\n",
            "1470\n",
            "1702\n",
            "1770\n",
            "1886\n",
            "1977\n",
            "2011\n",
            "2190\n",
            "2244\n",
            "2343\n",
            "2372\n",
            "2429\n",
            "2582\n",
            "2665\n",
            "2668\n",
            "2764\n",
            "2790\n",
            "2810\n",
            "2842\n",
            "2884\n",
            "2894\n",
            "3157\n",
            "3186\n",
            "3541\n",
            "3586\n",
            "3676\n",
            "3947\n",
            "4076\n",
            "4224\n",
            "4237\n",
            "4427\n",
            "4578\n",
            "4741\n",
            "4954\n",
            "4968\n",
            "5157\n",
            "5400\n",
            "5674\n",
            "5706\n",
            "5781\n",
            "6253\n",
            "6407\n",
            "6680\n",
            "6716\n",
            "6779\n",
            "7011\n",
            "7098\n",
            "7173\n",
            "7185\n",
            "7287\n",
            "7448\n",
            "7637\n",
            "7648\n",
            "7693\n",
            "7705\n",
            "7729\n",
            "7776\n",
            "7986\n",
            "8021\n",
            "8108\n",
            "8171\n",
            "8369\n",
            "8400\n",
            "8555\n",
            "8607\n",
            "8910\n",
            "9006\n",
            "9267\n",
            "9323\n",
            "9485\n",
            "9962\n",
            "9974\n",
            "10111\n",
            "10167\n",
            "10213\n",
            "10399\n",
            "10423\n",
            "10549\n",
            "10572\n",
            "10703\n",
            "10786\n",
            "10924\n",
            "10930\n",
            "10972\n",
            "11018\n",
            "11023\n",
            "11411\n",
            "11433\n",
            "11733\n",
            "11775\n",
            "11834\n",
            "12191\n",
            "12369\n",
            "12566\n",
            "12618\n",
            "12728\n",
            "12780\n",
            "12820\n",
            "12834\n",
            "13097\n",
            "13124\n",
            "13200\n",
            "13306\n",
            "13405\n",
            "13411\n",
            "13439\n",
            "13553\n",
            "13605\n",
            "13636\n",
            "13640\n",
            "13699\n",
            "13951\n",
            "14028\n",
            "14034\n",
            "14126\n",
            "14257\n",
            "14367\n",
            "14450\n",
            "14490\n",
            "14501\n",
            "14506\n",
            "14518\n",
            "14662\n",
            "14705\n",
            "14759\n",
            "14767\n",
            "14847\n",
            "14917\n",
            "15053\n",
            "15070\n",
            "15110\n",
            "15118\n",
            "15211\n",
            "15251\n",
            "15262\n",
            "15400\n",
            "15470\n",
            "15612\n",
            "15632\n",
            "15658\n",
            "15921\n",
            "15952\n",
            "16022\n",
            "16051\n",
            "16125\n",
            "16176\n",
            "16209\n",
            "16293\n",
            "16295\n",
            "16309\n",
            "16482\n",
            "16558\n",
            "16656\n",
            "16681\n",
            "16856\n",
            "17120\n",
            "17125\n",
            "17189\n",
            "17192\n",
            "17222\n",
            "17322\n",
            "17364\n",
            "17427\n",
            "17531\n",
            "17605\n",
            "17713\n",
            "17735\n",
            "17802\n",
            "17976\n",
            "18154\n",
            "18164\n",
            "18223\n",
            "18230\n",
            "18252\n",
            "18292\n",
            "18454\n",
            "18657\n",
            "18684\n",
            "18727\n",
            "18887\n",
            "18917\n",
            "18973\n",
            "19033\n",
            "19170\n",
            "19293\n",
            "19405\n",
            "19512\n",
            "19531\n",
            "19676\n",
            "19753\n",
            "19877\n",
            "19922\n",
            "19923\n",
            "19971\n",
            "20108\n",
            "20162\n",
            "20295\n",
            "20337\n",
            "20596\n",
            "20602\n",
            "20762\n",
            "20869\n",
            "20889\n",
            "20925\n",
            "21094\n",
            "21224\n",
            "21315\n",
            "21385\n",
            "21409\n",
            "21424\n",
            "21578\n",
            "21896\n",
            "22035\n",
            "22141\n",
            "22147\n",
            "22182\n",
            "22227\n",
            "22263\n",
            "22322\n",
            "22361\n",
            "22486\n",
            "22534\n",
            "22639\n",
            "22765\n",
            "22890\n",
            "23243\n",
            "23266\n",
            "23361\n",
            "23402\n",
            "23437\n",
            "23471\n",
            "23702\n",
            "23758\n",
            "23871\n",
            "23888\n",
            "23892\n",
            "24110\n",
            "24111\n",
            "24142\n",
            "24217\n",
            "24225\n",
            "24276\n",
            "24310\n",
            "24342\n",
            "24367\n",
            "24374\n",
            "24404\n",
            "24562\n",
            "24572\n",
            "24602\n",
            "24695\n",
            "24776\n",
            "24900\n",
            "25126\n",
            "25155\n",
            "25451\n",
            "25457\n",
            "25522\n",
            "25676\n",
            "25701\n",
            "25757\n",
            "25833\n",
            "25878\n",
            "25963\n",
            "25985\n",
            "25996\n",
            "26167\n",
            "26177\n",
            "26217\n",
            "26317\n",
            "26330\n",
            "26389\n",
            "26413\n",
            "26464\n",
            "26571\n",
            "26591\n",
            "26807\n",
            "26846\n",
            "26950\n",
            "27132\n",
            "27149\n",
            "27196\n",
            "27336\n",
            "27587\n",
            "27609\n",
            "27620\n",
            "27627\n",
            "27628\n",
            "27647\n",
            "27723\n",
            "27832\n",
            "27952\n",
            "28007\n",
            "28027\n",
            "28030\n",
            "28299\n",
            "28318\n",
            "28320\n",
            "28379\n",
            "28394\n",
            "28412\n",
            "28550\n",
            "28553\n",
            "28557\n",
            "28626\n",
            "28740\n",
            "28781\n",
            "28841\n",
            "28843\n",
            "28845\n",
            "29048\n",
            "29050\n",
            "29205\n",
            "29230\n",
            "29470\n",
            "29473\n",
            "29488\n",
            "29493\n",
            "29509\n",
            "29601\n",
            "29623\n",
            "29682\n",
            "29760\n",
            "29779\n",
            "29896\n",
            "30113\n",
            "30150\n",
            "30304\n",
            "30668\n",
            "30832\n",
            "30855\n",
            "30869\n",
            "31017\n",
            "31116\n",
            "31425\n",
            "31504\n",
            "31563\n",
            "31589\n",
            "31637\n",
            "31722\n",
            "31751\n",
            "31753\n",
            "31960\n",
            "32042\n",
            "32243\n",
            "32301\n",
            "32311\n",
            "32327\n",
            "32484\n",
            "32527\n",
            "33158\n",
            "33178\n",
            "33418\n",
            "33536\n",
            "33611\n",
            "33659\n",
            "33694\n",
            "33871\n",
            "33934\n",
            "34172\n",
            "34190\n",
            "34450\n",
            "34507\n",
            "34525\n",
            "34617\n",
            "34731\n",
            "34968\n",
            "34998\n",
            "35211\n",
            "35256\n",
            "35385\n",
            "35488\n",
            "35497\n",
            "35615\n",
            "35725\n",
            "35767\n",
            "35842\n",
            "35846\n",
            "35874\n",
            "35925\n",
            "36030\n",
            "36032\n",
            "36079\n",
            "36257\n",
            "36284\n",
            "36294\n",
            "36421\n",
            "36492\n",
            "36542\n",
            "36665\n",
            "37194\n",
            "37269\n",
            "37441\n",
            "37573\n",
            "37586\n",
            "37616\n",
            "37717\n",
            "37757\n",
            "37887\n",
            "38094\n",
            "38119\n",
            "38168\n",
            "38254\n",
            "38442\n",
            "38454\n",
            "38475\n",
            "38501\n",
            "38504\n",
            "38535\n",
            "38551\n",
            "38567\n",
            "38659\n",
            "38842\n",
            "38980\n",
            "39024\n",
            "39192\n",
            "39433\n",
            "39688\n",
            "39691\n",
            "39734\n",
            "39856\n",
            "39865\n",
            "39919\n",
            "39973\n",
            "40048\n",
            "40063\n",
            "40132\n",
            "40179\n",
            "40196\n",
            "40264\n",
            "40326\n",
            "40373\n",
            "40425\n",
            "40446\n",
            "40507\n",
            "40729\n",
            "40896\n",
            "41000\n",
            "41049\n",
            "41062\n",
            "41072\n",
            "41166\n",
            "41279\n",
            "41322\n",
            "41339\n",
            "41358\n",
            "41402\n",
            "41483\n",
            "41622\n",
            "41631\n",
            "41725\n",
            "42013\n",
            "42094\n",
            "42118\n",
            "42161\n",
            "42298\n",
            "42440\n",
            "42561\n",
            "42726\n",
            "42816\n",
            "42888\n",
            "42904\n",
            "43006\n",
            "43030\n",
            "43107\n",
            "43225\n",
            "43388\n",
            "43473\n",
            "43547\n",
            "43923\n",
            "43962\n",
            "44075\n",
            "44120\n",
            "44258\n",
            "44265\n",
            "44439\n",
            "44520\n",
            "44566\n",
            "44577\n",
            "44614\n",
            "44634\n",
            "44698\n",
            "44749\n",
            "44895\n",
            "44996\n",
            "45016\n",
            "45069\n",
            "45128\n",
            "45205\n",
            "45221\n",
            "45248\n",
            "45313\n",
            "45540\n",
            "45577\n",
            "45599\n",
            "45780\n",
            "45798\n",
            "45817\n",
            "45898\n",
            "45927\n",
            "45963\n",
            "46169\n",
            "46323\n",
            "46339\n",
            "46362\n",
            "46368\n",
            "46369\n",
            "46396\n",
            "46422\n",
            "46477\n",
            "46519\n",
            "46555\n",
            "46567\n",
            "46618\n",
            "46769\n",
            "46828\n",
            "46835\n",
            "46926\n",
            "47035\n",
            "47084\n",
            "47118\n",
            "47248\n",
            "47341\n",
            "47383\n",
            "47546\n",
            "47664\n",
            "47732\n",
            "47766\n",
            "47782\n",
            "47830\n",
            "47948\n",
            "47993\n",
            "48067\n",
            "48159\n",
            "48479\n",
            "48808\n",
            "48985\n",
            "49007\n",
            "49029\n",
            "49272\n",
            "49285\n",
            "49291\n",
            "49318\n",
            "49412\n",
            "49520\n",
            "49535\n",
            "49645\n",
            "49694\n",
            "49966\n",
            "50003\n",
            "50053\n",
            "50069\n",
            "50084\n",
            "50227\n",
            "50383\n",
            "50566\n",
            "50603\n",
            "50748\n",
            "50895\n",
            "50907\n",
            "50911\n",
            "50936\n",
            "51087\n",
            "51189\n",
            "51235\n",
            "51363\n",
            "51379\n",
            "51515\n",
            "51573\n",
            "51703\n",
            "51803\n",
            "51827\n",
            "51950\n",
            "52025\n",
            "52191\n",
            "52231\n",
            "52323\n",
            "52325\n",
            "52460\n",
            "52535\n",
            "52559\n",
            "52568\n",
            "52570\n",
            "52580\n",
            "52610\n",
            "52743\n",
            "52747\n",
            "52781\n",
            "52795\n",
            "52900\n",
            "52970\n",
            "52971\n",
            "52978\n",
            "53150\n",
            "53255\n",
            "53302\n",
            "53324\n",
            "53570\n",
            "53811\n",
            "53914\n",
            "53935\n",
            "53972\n",
            "54004\n",
            "54068\n",
            "54116\n",
            "54190\n",
            "54245\n",
            "54417\n",
            "54807\n",
            "54917\n",
            "54942\n",
            "54993\n",
            "55310\n",
            "55324\n",
            "55447\n",
            "55517\n",
            "55786\n",
            "55789\n",
            "55946\n",
            "55996\n",
            "56026\n",
            "56034\n",
            "56041\n",
            "56067\n",
            "56080\n",
            "56189\n",
            "56409\n",
            "56628\n",
            "56643\n",
            "56653\n",
            "56678\n",
            "56715\n",
            "56738\n",
            "56854\n",
            "56950\n",
            "57070\n",
            "57084\n",
            "57147\n",
            "57209\n",
            "57225\n",
            "57275\n",
            "57394\n",
            "57436\n",
            "57539\n",
            "57585\n",
            "57656\n",
            "57710\n",
            "57728\n",
            "57732\n",
            "57844\n",
            "57909\n",
            "57952\n",
            "58121\n",
            "58143\n",
            "58317\n",
            "58349\n",
            "58497\n",
            "58555\n",
            "58570\n",
            "58605\n",
            "58662\n",
            "58826\n",
            "58828\n",
            "58883\n",
            "58896\n",
            "58932\n",
            "58981\n",
            "58998\n",
            "59238\n",
            "59280\n",
            "59301\n",
            "59304\n",
            "59376\n",
            "59431\n",
            "59656\n",
            "59704\n",
            "59719\n",
            "60306\n",
            "60310\n",
            "60465\n",
            "60590\n",
            "60723\n",
            "60761\n",
            "60787\n",
            "60834\n",
            "60847\n",
            "60850\n",
            "60871\n",
            "60892\n",
            "60955\n",
            "60960\n",
            "61093\n",
            "61103\n",
            "61248\n",
            "61298\n",
            "61315\n",
            "61346\n",
            "61487\n",
            "61491\n",
            "61523\n",
            "61669\n",
            "61827\n",
            "61980\n",
            "61993\n",
            "62040\n",
            "62068\n",
            "62184\n",
            "62185\n",
            "62232\n",
            "62233\n",
            "62377\n",
            "62407\n",
            "62422\n",
            "62566\n",
            "62647\n",
            "62782\n",
            "62830\n",
            "62916\n",
            "63009\n",
            "63113\n",
            "63173\n",
            "63229\n",
            "63279\n",
            "63567\n",
            "63622\n",
            "63722\n",
            "63747\n",
            "63782\n",
            "63969\n",
            "63994\n",
            "64126\n",
            "64176\n",
            "64317\n",
            "64475\n",
            "64567\n",
            "64635\n",
            "64797\n",
            "64838\n",
            "64875\n",
            "64923\n",
            "64942\n",
            "65087\n",
            "65333\n",
            "65392\n",
            "65461\n",
            "65485\n",
            "65522\n",
            "65565\n",
            "65600\n",
            "65707\n",
            "65780\n",
            "65852\n",
            "65924\n",
            "65994\n",
            "66207\n",
            "66390\n",
            "66530\n",
            "66621\n",
            "66834\n",
            "67074\n",
            "67176\n",
            "67216\n",
            "67275\n",
            "67329\n",
            "67481\n",
            "67546\n",
            "67586\n",
            "67697\n",
            "67728\n",
            "67827\n",
            "67830\n",
            "67855\n",
            "67982\n",
            "68187\n",
            "68188\n",
            "68349\n",
            "68617\n",
            "68645\n",
            "68902\n",
            "68935\n",
            "68998\n",
            "69001\n",
            "69218\n",
            "69323\n",
            "69348\n",
            "69364\n",
            "69498\n",
            "69535\n",
            "69600\n",
            "69627\n",
            "69661\n",
            "69760\n",
            "69813\n",
            "69817\n",
            "69834\n",
            "69840\n",
            "69981\n",
            "69984\n",
            "70059\n",
            "70159\n",
            "70218\n",
            "70319\n",
            "70337\n",
            "70355\n",
            "70378\n",
            "70408\n",
            "70480\n",
            "70534\n",
            "70587\n",
            "70726\n",
            "70773\n",
            "70776\n",
            "70943\n",
            "70956\n",
            "71008\n",
            "71077\n",
            "71094\n",
            "71122\n",
            "71177\n",
            "71335\n",
            "71349\n",
            "71490\n",
            "71491\n",
            "71535\n",
            "71550\n",
            "71617\n",
            "71863\n",
            "71908\n",
            "71912\n",
            "71929\n",
            "72044\n",
            "72061\n",
            "72079\n",
            "72111\n",
            "72112\n",
            "72185\n",
            "72206\n",
            "72411\n",
            "72425\n",
            "72449\n",
            "72618\n",
            "72647\n",
            "72678\n",
            "72731\n",
            "72776\n",
            "72931\n",
            "72981\n",
            "73034\n",
            "73049\n",
            "73131\n",
            "73143\n",
            "73166\n",
            "73418\n",
            "73510\n",
            "73679\n",
            "73777\n",
            "73998\n",
            "74132\n",
            "74145\n",
            "74328\n",
            "74483\n",
            "74722\n",
            "74922\n",
            "74940\n",
            "75063\n",
            "75070\n",
            "75077\n",
            "75080\n",
            "75110\n",
            "75145\n",
            "75227\n",
            "75286\n",
            "75428\n",
            "75505\n",
            "75523\n",
            "75551\n",
            "75612\n",
            "75724\n",
            "75762\n",
            "75771\n",
            "75850\n",
            "76043\n",
            "76107\n",
            "76152\n",
            "76403\n",
            "76495\n",
            "76605\n",
            "76639\n",
            "76815\n",
            "76863\n",
            "77009\n",
            "77221\n",
            "77279\n",
            "77283\n",
            "77295\n",
            "77418\n",
            "77520\n",
            "77587\n",
            "77588\n",
            "77601\n",
            "77671\n",
            "77715\n",
            "77792\n",
            "77814\n",
            "77829\n",
            "77833\n",
            "77867\n",
            "77944\n",
            "77983\n",
            "78168\n",
            "78208\n",
            "78435\n",
            "78529\n",
            "78704\n",
            "78808\n",
            "78933\n",
            "79094\n",
            "79463\n",
            "79697\n",
            "79705\n",
            "79734\n",
            "79873\n",
            "79896\n",
            "79934\n",
            "79944\n",
            "79987\n",
            "80020\n",
            "80045\n",
            "80191\n",
            "80305\n",
            "80486\n",
            "80528\n",
            "80645\n",
            "80668\n",
            "80704\n",
            "80746\n",
            "80795\n",
            "80810\n",
            "80827\n",
            "80863\n",
            "80939\n",
            "81440\n",
            "81563\n",
            "81603\n",
            "81666\n",
            "81747\n",
            "81876\n",
            "82047\n",
            "82096\n",
            "82259\n",
            "82544\n",
            "82561\n",
            "82608\n",
            "82672\n",
            "82713\n",
            "82736\n",
            "82874\n",
            "82978\n",
            "82998\n",
            "83327\n",
            "83396\n",
            "83431\n",
            "83468\n",
            "83653\n",
            "83746\n",
            "83874\n",
            "83986\n",
            "84061\n",
            "84107\n",
            "84228\n",
            "84436\n",
            "84441\n",
            "84509\n",
            "84529\n",
            "84553\n",
            "84562\n",
            "84603\n",
            "84604\n",
            "84776\n",
            "84778\n",
            "84837\n",
            "84912\n",
            "84961\n",
            "84976\n",
            "85028\n",
            "85052\n",
            "85087\n",
            "85097\n",
            "85183\n",
            "85184\n",
            "85231\n",
            "85242\n",
            "85310\n",
            "85338\n",
            "85341\n",
            "85418\n",
            "85541\n",
            "85628\n",
            "85670\n",
            "85692\n",
            "85750\n",
            "85756\n",
            "85796\n",
            "85922\n",
            "86093\n",
            "86134\n",
            "86139\n",
            "86223\n",
            "86232\n",
            "86239\n",
            "86305\n",
            "86417\n",
            "86498\n",
            "86563\n",
            "86629\n",
            "86681\n",
            "86689\n",
            "86717\n",
            "86788\n",
            "86798\n",
            "86875\n",
            "86902\n",
            "86923\n",
            "87023\n",
            "87073\n",
            "87092\n",
            "87200\n",
            "87303\n",
            "87629\n",
            "87687\n",
            "87724\n",
            "87806\n",
            "87843\n",
            "87849\n",
            "87943\n",
            "88019\n",
            "88135\n",
            "88268\n",
            "88743\n",
            "88827\n",
            "88851\n",
            "88912\n",
            "89043\n",
            "89045\n",
            "89050\n",
            "89067\n",
            "89095\n",
            "89155\n",
            "89197\n",
            "89254\n",
            "89263\n",
            "89374\n",
            "89524\n",
            "89811\n",
            "89849\n",
            "89984\n",
            "90013\n",
            "90078\n",
            "90178\n",
            "90219\n",
            "90254\n",
            "90298\n",
            "90300\n",
            "90333\n",
            "90390\n",
            "90422\n",
            "90537\n",
            "90682\n",
            "91011\n",
            "91029\n",
            "91085\n",
            "91136\n",
            "91139\n",
            "91306\n",
            "91359\n",
            "91446\n",
            "91502\n",
            "91529\n",
            "91610\n",
            "91631\n",
            "91714\n",
            "91792\n",
            "91865\n",
            "91935\n",
            "92033\n",
            "92067\n",
            "92147\n",
            "92158\n",
            "92187\n",
            "92342\n",
            "92542\n",
            "92584\n",
            "92620\n",
            "92627\n",
            "92710\n",
            "92769\n",
            "92791\n",
            "92821\n",
            "92830\n",
            "92910\n",
            "92944\n",
            "92953\n",
            "93031\n",
            "93033\n",
            "93126\n",
            "93152\n",
            "93219\n",
            "93268\n",
            "93311\n",
            "93419\n",
            "93473\n",
            "93482\n",
            "93622\n",
            "93646\n",
            "93660\n",
            "93673\n",
            "93750\n",
            "94024\n",
            "94081\n",
            "94185\n",
            "94331\n",
            "94384\n",
            "94474\n",
            "94481\n",
            "94777\n",
            "94844\n",
            "94909\n",
            "95098\n",
            "95121\n",
            "95123\n",
            "95139\n",
            "95335\n",
            "95372\n",
            "95465\n",
            "95499\n",
            "95546\n",
            "95590\n",
            "95665\n",
            "95918\n",
            "95984\n",
            "96172\n",
            "96385\n",
            "96442\n",
            "96648\n",
            "96673\n",
            "96685\n",
            "96780\n",
            "96871\n",
            "96888\n",
            "96993\n",
            "97229\n",
            "97253\n",
            "97393\n",
            "97437\n",
            "97444\n",
            "97628\n",
            "97629\n",
            "97685\n",
            "97694\n",
            "97700\n",
            "97706\n",
            "97712\n",
            "97769\n",
            "97816\n",
            "97906\n",
            "97940\n",
            "97975\n",
            "97993\n",
            "98049\n",
            "98185\n",
            "98223\n",
            "98262\n",
            "98533\n",
            "98594\n",
            "98788\n",
            "98848\n",
            "98853\n",
            "98992\n",
            "99037\n",
            "99195\n",
            "99209\n",
            "99347\n",
            "99400\n",
            "99478\n",
            "99736\n",
            "99763\n",
            "99826\n",
            "99951\n",
            "99994\n",
            "100116\n",
            "100218\n",
            "100316\n",
            "100363\n",
            "100386\n",
            "100423\n",
            "100559\n",
            "100700\n",
            "100770\n",
            "100883\n",
            "100954\n",
            "101093\n",
            "101118\n",
            "101283\n",
            "101331\n",
            "101430\n",
            "101444\n",
            "101563\n",
            "101924\n",
            "101977\n",
            "102196\n",
            "102207\n",
            "102326\n",
            "102363\n",
            "102500\n",
            "102687\n",
            "102729\n",
            "102749\n",
            "102865\n",
            "102921\n",
            "102972\n",
            "103054\n",
            "103162\n",
            "103180\n",
            "103308\n",
            "103316\n",
            "103339\n",
            "103383\n",
            "103397\n",
            "103458\n",
            "103614\n",
            "103618\n",
            "103725\n",
            "103880\n",
            "103904\n",
            "103970\n",
            "103974\n",
            "104037\n",
            "104078\n",
            "104101\n",
            "104363\n",
            "104365\n",
            "104367\n",
            "104624\n",
            "104638\n",
            "104738\n",
            "104779\n",
            "104781\n",
            "104805\n",
            "104844\n",
            "104854\n",
            "104911\n",
            "105022\n",
            "105046\n",
            "105217\n",
            "105235\n",
            "105279\n",
            "105367\n",
            "105372\n",
            "105499\n",
            "105564\n",
            "105641\n",
            "105945\n",
            "105951\n",
            "105955\n",
            "105979\n",
            "106086\n",
            "106123\n",
            "106239\n",
            "106308\n",
            "106347\n",
            "106372\n",
            "106391\n",
            "106560\n",
            "106649\n",
            "106650\n",
            "106732\n",
            "106846\n",
            "106940\n",
            "107250\n",
            "107304\n",
            "107423\n",
            "107581\n",
            "107656\n",
            "107797\n",
            "107852\n",
            "108021\n",
            "108040\n",
            "108049\n",
            "108069\n",
            "108098\n",
            "108189\n",
            "108296\n",
            "108394\n",
            "108446\n",
            "108490\n",
            "108538\n",
            "108551\n",
            "108590\n",
            "108637\n",
            "108662\n",
            "108997\n",
            "109077\n",
            "109233\n",
            "109360\n",
            "109393\n",
            "109441\n",
            "109779\n",
            "109790\n",
            "109797\n",
            "109991\n",
            "109993\n",
            "110002\n",
            "110084\n",
            "110123\n",
            "110369\n",
            "110478\n",
            "110479\n",
            "110564\n",
            "110611\n",
            "110629\n",
            "110661\n",
            "110672\n",
            "110676\n",
            "110922\n",
            "110941\n",
            "111099\n",
            "111226\n",
            "111457\n",
            "111782\n",
            "111808\n",
            "111813\n",
            "111829\n",
            "112009\n",
            "112182\n",
            "112220\n",
            "112267\n",
            "112310\n",
            "112329\n",
            "112381\n",
            "112459\n",
            "112613\n",
            "112640\n",
            "112742\n",
            "112820\n",
            "112864\n",
            "112944\n",
            "113037\n",
            "113072\n",
            "113092\n",
            "113443\n",
            "113468\n",
            "113531\n",
            "113571\n",
            "113604\n",
            "113673\n",
            "113710\n",
            "113723\n",
            "114099\n",
            "114114\n",
            "114131\n",
            "114157\n",
            "114168\n",
            "114340\n",
            "114352\n",
            "114377\n",
            "114420\n",
            "114589\n",
            "114669\n",
            "114725\n",
            "114869\n",
            "114985\n",
            "115089\n",
            "115125\n",
            "115274\n",
            "115387\n",
            "115391\n",
            "115566\n",
            "115590\n",
            "115592\n",
            "115627\n",
            "116074\n",
            "116121\n",
            "116268\n",
            "116429\n",
            "116449\n",
            "116531\n",
            "116557\n",
            "116846\n",
            "116866\n",
            "116875\n",
            "116955\n",
            "116959\n",
            "116996\n",
            "117004\n",
            "117074\n",
            "117148\n",
            "117162\n",
            "117188\n",
            "117334\n",
            "117438\n",
            "117609\n",
            "117615\n",
            "117750\n",
            "118147\n",
            "118197\n",
            "118450\n",
            "118626\n",
            "118673\n",
            "118733\n",
            "118756\n",
            "118781\n",
            "118848\n",
            "118914\n",
            "118928\n",
            "118950\n",
            "118968\n",
            "119049\n",
            "119393\n",
            "119431\n",
            "119491\n",
            "119641\n",
            "119689\n",
            "119827\n",
            "120015\n",
            "120077\n",
            "120130\n",
            "120356\n",
            "120548\n",
            "120739\n",
            "120913\n",
            "121665\n",
            "121739\n",
            "121761\n",
            "121892\n",
            "121948\n",
            "121971\n",
            "122309\n",
            "122374\n",
            "122587\n",
            "122672\n"
          ]
        }
      ]
    },
    {
      "cell_type": "code",
      "source": [
        "#Checking if there are rows that are correctly predicted by the log reg. model\n",
        "count = 0\n",
        "for i in range(y_test.shape[0]):\n",
        "  # if y_test[i] == 1:\n",
        "  # print(i)\n",
        "\n",
        "  pre = transaction_activity(X_test.iloc[[i]], clf_lr)\n",
        "  rea = y_test[i]\n",
        "\n",
        "  if pre == rea == 1:\n",
        "    count += 1\n",
        "    print(i)\n",
        "    if count > 50:\n",
        "      break"
      ],
      "metadata": {
        "colab": {
          "base_uri": "https://localhost:8080/"
        },
        "id": "qkHdUHBW1qBO",
        "outputId": "f683881d-9002-4511-cb2c-d5d9c93b3011"
      },
      "execution_count": 322,
      "outputs": [
        {
          "output_type": "stream",
          "name": "stdout",
          "text": [
            "78\n",
            "107\n",
            "190\n",
            "443\n",
            "1566\n",
            "2038\n",
            "4445\n",
            "4676\n",
            "4782\n",
            "5310\n",
            "5792\n",
            "6940\n",
            "7398\n",
            "7450\n",
            "7593\n",
            "7941\n",
            "8037\n",
            "8867\n",
            "8923\n",
            "9267\n",
            "9270\n",
            "10795\n",
            "10835\n",
            "11137\n",
            "11207\n",
            "11641\n",
            "11728\n",
            "12183\n",
            "14195\n",
            "14805\n",
            "15081\n",
            "16364\n",
            "16372\n",
            "16643\n",
            "16910\n",
            "18419\n",
            "18840\n",
            "19125\n",
            "19856\n",
            "19890\n",
            "20085\n",
            "20209\n",
            "20597\n",
            "20801\n",
            "23105\n",
            "23304\n",
            "23418\n",
            "23551\n",
            "23848\n",
            "24333\n",
            "25639\n"
          ]
        }
      ]
    },
    {
      "cell_type": "markdown",
      "source": [
        "## **Conclusion**\n",
        "\n",
        "- It can be concluded that additional classification techniques like recurrent neural networks (RNN) can be used to find the best model. \n",
        "\n",
        "- The model helps identify an important feature for making transactions - mobile device. **This insight can be used to make informed UXR decisions** - help shape questions in surveys or inetrviews for example.\n",
        "\n",
        "- The nature of the dataset - which is heavily skewed towards no transaction, has an impact on the model. This can be seen from the following steps, where the project tries to run the same logistic regression model using a balanced dataset and performs well on the balanced dataset. \n",
        "\n",
        "- However, this balanced dataset model does not perform well on the original test set."
      ],
      "metadata": {
        "id": "YCV3Xjp-WSUb"
      }
    },
    {
      "cell_type": "markdown",
      "source": [
        "## **Testing the model performace on a balanced train dataset**"
      ],
      "metadata": {
        "id": "CpxBhEMgYGlR"
      }
    },
    {
      "cell_type": "code",
      "source": [
        "X = df_model.loc[:, df_model.columns != 'hasTransaction']\n",
        "y = df_model['hasTransaction'].to_numpy()\n",
        "\n",
        "buys = (df_model['hasTransaction'] == 1).sum()\n",
        "df_buys = df_model[df_model['hasTransaction'] == 1]\n",
        "print(df_buys.shape)\n",
        "\n",
        "notBuys_df = df_model[df_model['hasTransaction'] == 0]\n",
        "print(notBuys_df.shape)\n",
        "\n",
        "notBuys_rand_df = notBuys_df.sample(n=buys)\n",
        "print(notBuys_rand_df.shape)\n",
        "\n",
        "df_bal = df_buys.append(notBuys_rand_df)\n",
        "print(df_bal.shape)"
      ],
      "metadata": {
        "colab": {
          "base_uri": "https://localhost:8080/"
        },
        "id": "UpK2Rrk0YEsa",
        "outputId": "b8792b9f-48b1-42d6-f5fd-f696deb89477"
      },
      "execution_count": 492,
      "outputs": [
        {
          "output_type": "stream",
          "name": "stdout",
          "text": [
            "(5841, 12)\n",
            "(485155, 12)\n",
            "(5841, 12)\n",
            "(11682, 12)\n"
          ]
        }
      ]
    },
    {
      "cell_type": "code",
      "source": [
        "X_bal = df_bal.loc[:, df_bal.columns != 'hasTransaction']\n",
        "y_bal = df_bal['hasTransaction'].to_numpy()\n",
        "\n",
        "X_bal_train, X_bal_test, y_bal_train, y_bal_test = train_test_split(X_bal, y_bal, stratify=y_bal, test_size=0.25, random_state=500)\n",
        "\n",
        "columns = df_bal.columns\n",
        "print(columns)"
      ],
      "metadata": {
        "colab": {
          "base_uri": "https://localhost:8080/"
        },
        "id": "yramlJXtYMgF",
        "outputId": "89dabe5b-8153-4b63-bfae-7c0817ea1871"
      },
      "execution_count": 493,
      "outputs": [
        {
          "output_type": "stream",
          "name": "stdout",
          "text": [
            "Index(['hits', 'pageviews', 'timeOnSite', 'newVisits', 'hitNumber',\n",
            "       'deviceCategory', 'bounces', 'medium', 'visitId', 'hour',\n",
            "       'ShoppingCartTime', 'hasTransaction'],\n",
            "      dtype='object')\n"
          ]
        }
      ]
    },
    {
      "cell_type": "code",
      "source": [
        "clf_rl_bal = Pipeline(\n",
        "    steps=[(\"preprocessor\", preprocessor), \n",
        "           (\"classifier\", RandomForestClassifier(random_state=0))]\n",
        ")\n",
        "\n",
        "clf_rl_bal.fit(X_bal_train, y_bal_train)\n",
        "print(clf_rl_bal.get_params)\n",
        "print(\"model score: %.3f\" % clf_rl_bal.score(X_bal_test, y_bal_test))"
      ],
      "metadata": {
        "colab": {
          "base_uri": "https://localhost:8080/"
        },
        "id": "cNxH70rMYMkY",
        "outputId": "9560fe86-f73d-42b0-85b8-db29f4ce126a"
      },
      "execution_count": 494,
      "outputs": [
        {
          "output_type": "stream",
          "name": "stdout",
          "text": [
            "<bound method Pipeline.get_params of Pipeline(steps=[('preprocessor',\n",
            "                 ColumnTransformer(transformers=[('num',\n",
            "                                                  Pipeline(steps=[('scaler',\n",
            "                                                                   StandardScaler())]),\n",
            "                                                  Index(['hits', 'pageviews', 'timeOnSite', 'newVisits', 'hitNumber', 'bounces',\n",
            "       'visitId', 'hour', 'ShoppingCartTime'],\n",
            "      dtype='object')),\n",
            "                                                 ('cat',\n",
            "                                                  OneHotEncoder(handle_unknown='ignore'),\n",
            "                                                  Index(['deviceCategory', 'medium'], dtype='object'))])),\n",
            "                ('classifier', RandomForestClassifier(random_state=0))])>\n",
            "model score: 0.980\n"
          ]
        }
      ]
    },
    {
      "cell_type": "code",
      "source": [
        "#Evaluating the model on new balanced test set\n",
        "y_pred_rl_bal = clf_rl_bal.predict(X_bal_test)\n",
        "\n",
        "print(classification_report(y_bal_test, y_pred_rl_bal))"
      ],
      "metadata": {
        "colab": {
          "base_uri": "https://localhost:8080/"
        },
        "id": "69BE0WKkYMmj",
        "outputId": "528ac7f9-a5ff-4485-ee52-f030dca73109"
      },
      "execution_count": 495,
      "outputs": [
        {
          "output_type": "stream",
          "name": "stdout",
          "text": [
            "              precision    recall  f1-score   support\n",
            "\n",
            "           0       0.99      0.97      0.98      1461\n",
            "           1       0.97      0.99      0.98      1460\n",
            "\n",
            "    accuracy                           0.98      2921\n",
            "   macro avg       0.98      0.98      0.98      2921\n",
            "weighted avg       0.98      0.98      0.98      2921\n",
            "\n"
          ]
        }
      ]
    },
    {
      "cell_type": "code",
      "source": [
        "#Evaluating the balanced model on original test set\n",
        "y_pred_lr = clf_lr_bal.predict(X_test)\n",
        "\n",
        "print(classification_report(y_test, y_pred_lr))"
      ],
      "metadata": {
        "colab": {
          "base_uri": "https://localhost:8080/"
        },
        "id": "edBwEubscF0C",
        "outputId": "954a3574-c774-4341-c7ef-aea38fcc7898"
      },
      "execution_count": 497,
      "outputs": [
        {
          "output_type": "stream",
          "name": "stdout",
          "text": [
            "              precision    recall  f1-score   support\n",
            "\n",
            "           0       1.00      0.97      0.98    121289\n",
            "           1       0.26      1.00      0.41      1460\n",
            "\n",
            "    accuracy                           0.97    122749\n",
            "   macro avg       0.63      0.98      0.70    122749\n",
            "weighted avg       0.99      0.97      0.98    122749\n",
            "\n"
          ]
        }
      ]
    }
  ]
}